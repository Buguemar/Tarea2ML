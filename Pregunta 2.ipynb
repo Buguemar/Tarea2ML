{
 "cells": [
  {
   "cell_type": "markdown",
   "metadata": {},
   "source": [
    "# 2. Análisis de audios como datos brutos"
   ]
  },
  {
   "cell_type": "markdown",
   "metadata": {},
   "source": [
    "Se usa el set A del dataset Heartbeat Sounds de Kaggle. El conjunto de entradas corresponde a archivos de audio de latidos de corazón, y la salida esperada es una de 4 categorías: 1. Normal, 2. Murmur, 3. Extra Heart Sound y 4. Artifact. Esta información está contenida en el archivo CSV set_a.csv. Es posible que existan audios sin etiqueta asignada, por lo que se ignorarán. El objetivo de la actividad es diseñar una máquina que aprenda a determinar la categoría correcta para futuras entradas de sonido de latidos de corazón."
   ]
  },
  {
   "cell_type": "code",
   "execution_count": 240,
   "metadata": {},
   "outputs": [],
   "source": [
    "from scipy.io import wavfile\n",
    "\n",
    "def clean_filename(fname, string):\n",
    "    file_name = fname.split('/')[1]\n",
    "    if file_name[:2] == '__':\n",
    "        file_name=string + file_name\n",
    "    return file_name\n",
    "\n",
    "SAMPLE_RATE = 44100\n",
    "\n",
    "def load_wav_file(name, path):\n",
    "    s, b = wavfile.read(path+name)\n",
    "    assert s == SAMPLE_RATE\n",
    "    return b"
   ]
  },
  {
   "cell_type": "markdown",
   "metadata": {},
   "source": [
    "#### (a) Se construye dataframe con los datos a usar."
   ]
  },
  {
   "cell_type": "code",
   "execution_count": 241,
   "metadata": {},
   "outputs": [],
   "source": [
    "import pandas as pd\n",
    "import numpy as np\n",
    "\n",
    "df = pd.read_csv('./heartbeat-sounds/set_a.csv')"
   ]
  },
  {
   "cell_type": "code",
   "execution_count": 242,
   "metadata": {},
   "outputs": [
    {
     "data": {
      "text/html": [
       "<div>\n",
       "<style>\n",
       "    .dataframe thead tr:only-child th {\n",
       "        text-align: right;\n",
       "    }\n",
       "\n",
       "    .dataframe thead th {\n",
       "        text-align: left;\n",
       "    }\n",
       "\n",
       "    .dataframe tbody tr th {\n",
       "        vertical-align: top;\n",
       "    }\n",
       "</style>\n",
       "<table border=\"1\" class=\"dataframe\">\n",
       "  <thead>\n",
       "    <tr style=\"text-align: right;\">\n",
       "      <th></th>\n",
       "      <th>dataset</th>\n",
       "      <th>fname</th>\n",
       "      <th>label</th>\n",
       "      <th>sublabel</th>\n",
       "    </tr>\n",
       "  </thead>\n",
       "  <tbody>\n",
       "    <tr>\n",
       "      <th>0</th>\n",
       "      <td>a</td>\n",
       "      <td>set_a/artifact__201012172012.wav</td>\n",
       "      <td>artifact</td>\n",
       "      <td>NaN</td>\n",
       "    </tr>\n",
       "    <tr>\n",
       "      <th>1</th>\n",
       "      <td>a</td>\n",
       "      <td>set_a/artifact__201105040918.wav</td>\n",
       "      <td>artifact</td>\n",
       "      <td>NaN</td>\n",
       "    </tr>\n",
       "    <tr>\n",
       "      <th>2</th>\n",
       "      <td>a</td>\n",
       "      <td>set_a/artifact__201105041959.wav</td>\n",
       "      <td>artifact</td>\n",
       "      <td>NaN</td>\n",
       "    </tr>\n",
       "    <tr>\n",
       "      <th>3</th>\n",
       "      <td>a</td>\n",
       "      <td>set_a/artifact__201105051017.wav</td>\n",
       "      <td>artifact</td>\n",
       "      <td>NaN</td>\n",
       "    </tr>\n",
       "    <tr>\n",
       "      <th>4</th>\n",
       "      <td>a</td>\n",
       "      <td>set_a/artifact__201105060108.wav</td>\n",
       "      <td>artifact</td>\n",
       "      <td>NaN</td>\n",
       "    </tr>\n",
       "    <tr>\n",
       "      <th>5</th>\n",
       "      <td>a</td>\n",
       "      <td>set_a/artifact__201105061143.wav</td>\n",
       "      <td>artifact</td>\n",
       "      <td>NaN</td>\n",
       "    </tr>\n",
       "    <tr>\n",
       "      <th>6</th>\n",
       "      <td>a</td>\n",
       "      <td>set_a/artifact__201105190800.wav</td>\n",
       "      <td>artifact</td>\n",
       "      <td>NaN</td>\n",
       "    </tr>\n",
       "    <tr>\n",
       "      <th>7</th>\n",
       "      <td>a</td>\n",
       "      <td>set_a/artifact__201105280851.wav</td>\n",
       "      <td>artifact</td>\n",
       "      <td>NaN</td>\n",
       "    </tr>\n",
       "    <tr>\n",
       "      <th>8</th>\n",
       "      <td>a</td>\n",
       "      <td>set_a/artifact__201106010559.wav</td>\n",
       "      <td>artifact</td>\n",
       "      <td>NaN</td>\n",
       "    </tr>\n",
       "    <tr>\n",
       "      <th>9</th>\n",
       "      <td>a</td>\n",
       "      <td>set_a/artifact__201106010602.wav</td>\n",
       "      <td>artifact</td>\n",
       "      <td>NaN</td>\n",
       "    </tr>\n",
       "  </tbody>\n",
       "</table>\n",
       "</div>"
      ],
      "text/plain": [
       "  dataset                             fname     label  sublabel\n",
       "0       a  set_a/artifact__201012172012.wav  artifact       NaN\n",
       "1       a  set_a/artifact__201105040918.wav  artifact       NaN\n",
       "2       a  set_a/artifact__201105041959.wav  artifact       NaN\n",
       "3       a  set_a/artifact__201105051017.wav  artifact       NaN\n",
       "4       a  set_a/artifact__201105060108.wav  artifact       NaN\n",
       "5       a  set_a/artifact__201105061143.wav  artifact       NaN\n",
       "6       a  set_a/artifact__201105190800.wav  artifact       NaN\n",
       "7       a  set_a/artifact__201105280851.wav  artifact       NaN\n",
       "8       a  set_a/artifact__201106010559.wav  artifact       NaN\n",
       "9       a  set_a/artifact__201106010602.wav  artifact       NaN"
      ]
     },
     "execution_count": 242,
     "metadata": {},
     "output_type": "execute_result"
    }
   ],
   "source": [
    "df.head(10)"
   ]
  },
  {
   "cell_type": "markdown",
   "metadata": {
    "collapsed": true
   },
   "source": [
    "Una inspección manual sobre el dataset permite confirmar que existen 176 registros de audio, de los cuales sólo los primeros 124 se encuentran etiquetados. De éstos, hay 40 calificados como 'Artifact', 19 como 'extrahls', 34 como 'murmur' y 31 como 'normal'. Durante el ejercicio, no se usarán las columnas 'set' ni 'sublabel', por lo que se eliminarán del dataframe."
   ]
  },
  {
   "cell_type": "code",
   "execution_count": 243,
   "metadata": {},
   "outputs": [],
   "source": [
    "df = df.drop(['dataset','sublabel'], axis=1)"
   ]
  },
  {
   "cell_type": "code",
   "execution_count": 244,
   "metadata": {},
   "outputs": [
    {
     "data": {
      "text/html": [
       "<div>\n",
       "<style>\n",
       "    .dataframe thead tr:only-child th {\n",
       "        text-align: right;\n",
       "    }\n",
       "\n",
       "    .dataframe thead th {\n",
       "        text-align: left;\n",
       "    }\n",
       "\n",
       "    .dataframe tbody tr th {\n",
       "        vertical-align: top;\n",
       "    }\n",
       "</style>\n",
       "<table border=\"1\" class=\"dataframe\">\n",
       "  <thead>\n",
       "    <tr style=\"text-align: right;\">\n",
       "      <th></th>\n",
       "      <th>fname</th>\n",
       "      <th>label</th>\n",
       "    </tr>\n",
       "  </thead>\n",
       "  <tbody>\n",
       "    <tr>\n",
       "      <th>0</th>\n",
       "      <td>set_a/artifact__201012172012.wav</td>\n",
       "      <td>artifact</td>\n",
       "    </tr>\n",
       "    <tr>\n",
       "      <th>1</th>\n",
       "      <td>set_a/artifact__201105040918.wav</td>\n",
       "      <td>artifact</td>\n",
       "    </tr>\n",
       "    <tr>\n",
       "      <th>2</th>\n",
       "      <td>set_a/artifact__201105041959.wav</td>\n",
       "      <td>artifact</td>\n",
       "    </tr>\n",
       "    <tr>\n",
       "      <th>3</th>\n",
       "      <td>set_a/artifact__201105051017.wav</td>\n",
       "      <td>artifact</td>\n",
       "    </tr>\n",
       "    <tr>\n",
       "      <th>4</th>\n",
       "      <td>set_a/artifact__201105060108.wav</td>\n",
       "      <td>artifact</td>\n",
       "    </tr>\n",
       "    <tr>\n",
       "      <th>5</th>\n",
       "      <td>set_a/artifact__201105061143.wav</td>\n",
       "      <td>artifact</td>\n",
       "    </tr>\n",
       "    <tr>\n",
       "      <th>6</th>\n",
       "      <td>set_a/artifact__201105190800.wav</td>\n",
       "      <td>artifact</td>\n",
       "    </tr>\n",
       "    <tr>\n",
       "      <th>7</th>\n",
       "      <td>set_a/artifact__201105280851.wav</td>\n",
       "      <td>artifact</td>\n",
       "    </tr>\n",
       "    <tr>\n",
       "      <th>8</th>\n",
       "      <td>set_a/artifact__201106010559.wav</td>\n",
       "      <td>artifact</td>\n",
       "    </tr>\n",
       "    <tr>\n",
       "      <th>9</th>\n",
       "      <td>set_a/artifact__201106010602.wav</td>\n",
       "      <td>artifact</td>\n",
       "    </tr>\n",
       "  </tbody>\n",
       "</table>\n",
       "</div>"
      ],
      "text/plain": [
       "                              fname     label\n",
       "0  set_a/artifact__201012172012.wav  artifact\n",
       "1  set_a/artifact__201105040918.wav  artifact\n",
       "2  set_a/artifact__201105041959.wav  artifact\n",
       "3  set_a/artifact__201105051017.wav  artifact\n",
       "4  set_a/artifact__201105060108.wav  artifact\n",
       "5  set_a/artifact__201105061143.wav  artifact\n",
       "6  set_a/artifact__201105190800.wav  artifact\n",
       "7  set_a/artifact__201105280851.wav  artifact\n",
       "8  set_a/artifact__201106010559.wav  artifact\n",
       "9  set_a/artifact__201106010602.wav  artifact"
      ]
     },
     "execution_count": 244,
     "metadata": {},
     "output_type": "execute_result"
    }
   ],
   "source": [
    "df.head(10)"
   ]
  },
  {
   "cell_type": "markdown",
   "metadata": {},
   "source": [
    "#### (b) Lectura de los archivos de audio de entrada"
   ]
  },
  {
   "cell_type": "markdown",
   "metadata": {},
   "source": [
    "Se cargan los archivos enlistados en el el dataframe filtrado resultante en (a). Se realiza un padding de ceros a cada archivo, de manera que todos tengan la misma duración que el más largo. De no hacer esto, la distinta duración se traduce en que se conforman por distintas cantidades de elementos o atributos. Esto significa que, sin padding, cada archivo de entrada tendría una dimensionalidad distinta, lo que no es aceptable por ningún método de aprendizaje automático visto en el curso."
   ]
  },
  {
   "cell_type": "code",
   "execution_count": 245,
   "metadata": {},
   "outputs": [],
   "source": [
    "def padd_zeros(array,length):\n",
    "    aux = np.zeros(length)\n",
    "    aux[:array.shape[0]] = array\n",
    "    return aux\n",
    "\n",
    "new_df = pd.DataFrame({'file_name' : df['fname'].apply(clean_filename,string='Aunlabelledtest')})\n",
    "new_df['time_series'] = new_df['file_name'].apply(load_wav_file, path='./heartbeat-sounds/set_a/')\n",
    "new_df['len_series'] = new_df['time_series'].apply(len)\n",
    "new_df['time_series']=new_df['time_series'].apply(padd_zeros,length=max(new_df['len_series']))"
   ]
  },
  {
   "cell_type": "code",
   "execution_count": 246,
   "metadata": {},
   "outputs": [
    {
     "data": {
      "text/html": [
       "<div>\n",
       "<style>\n",
       "    .dataframe thead tr:only-child th {\n",
       "        text-align: right;\n",
       "    }\n",
       "\n",
       "    .dataframe thead th {\n",
       "        text-align: left;\n",
       "    }\n",
       "\n",
       "    .dataframe tbody tr th {\n",
       "        vertical-align: top;\n",
       "    }\n",
       "</style>\n",
       "<table border=\"1\" class=\"dataframe\">\n",
       "  <thead>\n",
       "    <tr style=\"text-align: right;\">\n",
       "      <th></th>\n",
       "      <th>file_name</th>\n",
       "      <th>time_series</th>\n",
       "      <th>len_series</th>\n",
       "    </tr>\n",
       "  </thead>\n",
       "  <tbody>\n",
       "    <tr>\n",
       "      <th>0</th>\n",
       "      <td>artifact__201012172012.wav</td>\n",
       "      <td>[1.0, -3.0, -1.0, -7.0, -9.0, -2.0, -6.0, -5.0...</td>\n",
       "      <td>396900</td>\n",
       "    </tr>\n",
       "    <tr>\n",
       "      <th>1</th>\n",
       "      <td>artifact__201105040918.wav</td>\n",
       "      <td>[-2.0, 3.0, -4.0, 4.0, -3.0, 2.0, -1.0, 0.0, 0...</td>\n",
       "      <td>396900</td>\n",
       "    </tr>\n",
       "    <tr>\n",
       "      <th>2</th>\n",
       "      <td>artifact__201105041959.wav</td>\n",
       "      <td>[6.0, -4.0, -9.0, -1.0, -4.0, 1.0, -5.0, 2.0, ...</td>\n",
       "      <td>396900</td>\n",
       "    </tr>\n",
       "    <tr>\n",
       "      <th>3</th>\n",
       "      <td>artifact__201105051017.wav</td>\n",
       "      <td>[-85.0, -198.0, -214.0, -173.0, -177.0, -206.0...</td>\n",
       "      <td>396900</td>\n",
       "    </tr>\n",
       "    <tr>\n",
       "      <th>4</th>\n",
       "      <td>artifact__201105060108.wav</td>\n",
       "      <td>[53.0, -35.0, 47.0, 170.0, 340.0, 436.0, 535.0...</td>\n",
       "      <td>396900</td>\n",
       "    </tr>\n",
       "    <tr>\n",
       "      <th>5</th>\n",
       "      <td>artifact__201105061143.wav</td>\n",
       "      <td>[-2.0, 2.0, -2.0, 2.0, -2.0, 1.0, 1.0, -3.0, 3...</td>\n",
       "      <td>396900</td>\n",
       "    </tr>\n",
       "    <tr>\n",
       "      <th>6</th>\n",
       "      <td>artifact__201105190800.wav</td>\n",
       "      <td>[47.0, 70.0, 47.0, 58.0, 53.0, 45.0, 13.0, 21....</td>\n",
       "      <td>396900</td>\n",
       "    </tr>\n",
       "    <tr>\n",
       "      <th>7</th>\n",
       "      <td>artifact__201105280851.wav</td>\n",
       "      <td>[605.0, 648.0, 473.0, 171.0, -203.0, -512.0, -...</td>\n",
       "      <td>396900</td>\n",
       "    </tr>\n",
       "    <tr>\n",
       "      <th>8</th>\n",
       "      <td>artifact__201106010559.wav</td>\n",
       "      <td>[-49.0, 0.0, 17.0, -43.0, 30.0, 9.0, -29.0, 50...</td>\n",
       "      <td>396900</td>\n",
       "    </tr>\n",
       "    <tr>\n",
       "      <th>9</th>\n",
       "      <td>artifact__201106010602.wav</td>\n",
       "      <td>[52.0, -1291.0, -1116.0, 101.0, 2429.0, 3776.0...</td>\n",
       "      <td>396900</td>\n",
       "    </tr>\n",
       "  </tbody>\n",
       "</table>\n",
       "</div>"
      ],
      "text/plain": [
       "                    file_name  \\\n",
       "0  artifact__201012172012.wav   \n",
       "1  artifact__201105040918.wav   \n",
       "2  artifact__201105041959.wav   \n",
       "3  artifact__201105051017.wav   \n",
       "4  artifact__201105060108.wav   \n",
       "5  artifact__201105061143.wav   \n",
       "6  artifact__201105190800.wav   \n",
       "7  artifact__201105280851.wav   \n",
       "8  artifact__201106010559.wav   \n",
       "9  artifact__201106010602.wav   \n",
       "\n",
       "                                         time_series  len_series  \n",
       "0  [1.0, -3.0, -1.0, -7.0, -9.0, -2.0, -6.0, -5.0...      396900  \n",
       "1  [-2.0, 3.0, -4.0, 4.0, -3.0, 2.0, -1.0, 0.0, 0...      396900  \n",
       "2  [6.0, -4.0, -9.0, -1.0, -4.0, 1.0, -5.0, 2.0, ...      396900  \n",
       "3  [-85.0, -198.0, -214.0, -173.0, -177.0, -206.0...      396900  \n",
       "4  [53.0, -35.0, 47.0, 170.0, 340.0, 436.0, 535.0...      396900  \n",
       "5  [-2.0, 2.0, -2.0, 2.0, -2.0, 1.0, 1.0, -3.0, 3...      396900  \n",
       "6  [47.0, 70.0, 47.0, 58.0, 53.0, 45.0, 13.0, 21....      396900  \n",
       "7  [605.0, 648.0, 473.0, 171.0, -203.0, -512.0, -...      396900  \n",
       "8  [-49.0, 0.0, 17.0, -43.0, 30.0, 9.0, -29.0, 50...      396900  \n",
       "9  [52.0, -1291.0, -1116.0, 101.0, 2429.0, 3776.0...      396900  "
      ]
     },
     "execution_count": 246,
     "metadata": {},
     "output_type": "execute_result"
    }
   ],
   "source": [
    "new_df.head(10)"
   ]
  },
  {
   "cell_type": "markdown",
   "metadata": {},
   "source": [
    "#### (c) Reasignación de etiquetas a cada dato"
   ]
  },
  {
   "cell_type": "code",
   "execution_count": 247,
   "metadata": {},
   "outputs": [],
   "source": [
    "new_labels =[0, 0, 0, 0, 0, 0, 0, 0, 0, 0, 0, 0, 0, 0, 0, 0, 0, 0, 0, 0, 0, 0, 0, 0, 0,\n",
    "            0, 0, 0, 0, 0, 0, 0, 0, 0, 0, 0, 0, 0, 0, 0, 2, 1, 1, 1, 1, 1, 1, 1, 1, 1,\n",
    "            1, 1, 1, 1, 1, 2, 1, 1, 1, 2, 2, 2, 1, 1, 2, 1, 2, 2, 1, 2, 2, 2, 2, 2, 2,\n",
    "            2, 2, 2, 2, 2, 2, 2, 2, 2, 2, 2, 2, 2, 2, 2, 2, 2, 2, 1, 1, 1, 1, 1, 1, 1,\n",
    "            1, 2, 1, 1, 1, 1, 1, 2, 1, 1, 1, 1, 1, 1, 1, 2, 2, 1, 1, 1, 1, 1, 2, 1, 0,\n",
    "            2, 2, 1, 1, 1, 1, 1, 0, 1, 0, 1, 1, 1, 2, 1, 0, 1, 1, 1, 1, 1, 2, 0, 0, 0,\n",
    "            0, 0, 0, 0, 1, 0, 0, 0, 0, 0, 0, 1, 0, 2, 1, 2, 2, 2, 2, 2, 2, 2, 2, 2, 2, 2]\n",
    "labels = ['artifact','normal/extrahls', 'murmur']\n",
    "new_df['target'] = [labels[i] for i in new_labels]"
   ]
  },
  {
   "cell_type": "code",
   "execution_count": 248,
   "metadata": {},
   "outputs": [
    {
     "data": {
      "text/html": [
       "<div>\n",
       "<style>\n",
       "    .dataframe thead tr:only-child th {\n",
       "        text-align: right;\n",
       "    }\n",
       "\n",
       "    .dataframe thead th {\n",
       "        text-align: left;\n",
       "    }\n",
       "\n",
       "    .dataframe tbody tr th {\n",
       "        vertical-align: top;\n",
       "    }\n",
       "</style>\n",
       "<table border=\"1\" class=\"dataframe\">\n",
       "  <thead>\n",
       "    <tr style=\"text-align: right;\">\n",
       "      <th></th>\n",
       "      <th>file_name</th>\n",
       "      <th>time_series</th>\n",
       "      <th>len_series</th>\n",
       "      <th>target</th>\n",
       "    </tr>\n",
       "  </thead>\n",
       "  <tbody>\n",
       "    <tr>\n",
       "      <th>0</th>\n",
       "      <td>artifact__201012172012.wav</td>\n",
       "      <td>[1.0, -3.0, -1.0, -7.0, -9.0, -2.0, -6.0, -5.0...</td>\n",
       "      <td>396900</td>\n",
       "      <td>artifact</td>\n",
       "    </tr>\n",
       "    <tr>\n",
       "      <th>1</th>\n",
       "      <td>artifact__201105040918.wav</td>\n",
       "      <td>[-2.0, 3.0, -4.0, 4.0, -3.0, 2.0, -1.0, 0.0, 0...</td>\n",
       "      <td>396900</td>\n",
       "      <td>artifact</td>\n",
       "    </tr>\n",
       "    <tr>\n",
       "      <th>2</th>\n",
       "      <td>artifact__201105041959.wav</td>\n",
       "      <td>[6.0, -4.0, -9.0, -1.0, -4.0, 1.0, -5.0, 2.0, ...</td>\n",
       "      <td>396900</td>\n",
       "      <td>artifact</td>\n",
       "    </tr>\n",
       "    <tr>\n",
       "      <th>3</th>\n",
       "      <td>artifact__201105051017.wav</td>\n",
       "      <td>[-85.0, -198.0, -214.0, -173.0, -177.0, -206.0...</td>\n",
       "      <td>396900</td>\n",
       "      <td>artifact</td>\n",
       "    </tr>\n",
       "    <tr>\n",
       "      <th>4</th>\n",
       "      <td>artifact__201105060108.wav</td>\n",
       "      <td>[53.0, -35.0, 47.0, 170.0, 340.0, 436.0, 535.0...</td>\n",
       "      <td>396900</td>\n",
       "      <td>artifact</td>\n",
       "    </tr>\n",
       "    <tr>\n",
       "      <th>5</th>\n",
       "      <td>artifact__201105061143.wav</td>\n",
       "      <td>[-2.0, 2.0, -2.0, 2.0, -2.0, 1.0, 1.0, -3.0, 3...</td>\n",
       "      <td>396900</td>\n",
       "      <td>artifact</td>\n",
       "    </tr>\n",
       "    <tr>\n",
       "      <th>6</th>\n",
       "      <td>artifact__201105190800.wav</td>\n",
       "      <td>[47.0, 70.0, 47.0, 58.0, 53.0, 45.0, 13.0, 21....</td>\n",
       "      <td>396900</td>\n",
       "      <td>artifact</td>\n",
       "    </tr>\n",
       "    <tr>\n",
       "      <th>7</th>\n",
       "      <td>artifact__201105280851.wav</td>\n",
       "      <td>[605.0, 648.0, 473.0, 171.0, -203.0, -512.0, -...</td>\n",
       "      <td>396900</td>\n",
       "      <td>artifact</td>\n",
       "    </tr>\n",
       "    <tr>\n",
       "      <th>8</th>\n",
       "      <td>artifact__201106010559.wav</td>\n",
       "      <td>[-49.0, 0.0, 17.0, -43.0, 30.0, 9.0, -29.0, 50...</td>\n",
       "      <td>396900</td>\n",
       "      <td>artifact</td>\n",
       "    </tr>\n",
       "    <tr>\n",
       "      <th>9</th>\n",
       "      <td>artifact__201106010602.wav</td>\n",
       "      <td>[52.0, -1291.0, -1116.0, 101.0, 2429.0, 3776.0...</td>\n",
       "      <td>396900</td>\n",
       "      <td>artifact</td>\n",
       "    </tr>\n",
       "  </tbody>\n",
       "</table>\n",
       "</div>"
      ],
      "text/plain": [
       "                    file_name  \\\n",
       "0  artifact__201012172012.wav   \n",
       "1  artifact__201105040918.wav   \n",
       "2  artifact__201105041959.wav   \n",
       "3  artifact__201105051017.wav   \n",
       "4  artifact__201105060108.wav   \n",
       "5  artifact__201105061143.wav   \n",
       "6  artifact__201105190800.wav   \n",
       "7  artifact__201105280851.wav   \n",
       "8  artifact__201106010559.wav   \n",
       "9  artifact__201106010602.wav   \n",
       "\n",
       "                                         time_series  len_series    target  \n",
       "0  [1.0, -3.0, -1.0, -7.0, -9.0, -2.0, -6.0, -5.0...      396900  artifact  \n",
       "1  [-2.0, 3.0, -4.0, 4.0, -3.0, 2.0, -1.0, 0.0, 0...      396900  artifact  \n",
       "2  [6.0, -4.0, -9.0, -1.0, -4.0, 1.0, -5.0, 2.0, ...      396900  artifact  \n",
       "3  [-85.0, -198.0, -214.0, -173.0, -177.0, -206.0...      396900  artifact  \n",
       "4  [53.0, -35.0, 47.0, 170.0, 340.0, 436.0, 535.0...      396900  artifact  \n",
       "5  [-2.0, 2.0, -2.0, 2.0, -2.0, 1.0, 1.0, -3.0, 3...      396900  artifact  \n",
       "6  [47.0, 70.0, 47.0, 58.0, 53.0, 45.0, 13.0, 21....      396900  artifact  \n",
       "7  [605.0, 648.0, 473.0, 171.0, -203.0, -512.0, -...      396900  artifact  \n",
       "8  [-49.0, 0.0, 17.0, -43.0, 30.0, 9.0, -29.0, 50...      396900  artifact  \n",
       "9  [52.0, -1291.0, -1116.0, 101.0, 2429.0, 3776.0...      396900  artifact  "
      ]
     },
     "execution_count": 248,
     "metadata": {},
     "output_type": "execute_result"
    }
   ],
   "source": [
    "new_df.head(10)"
   ]
  },
  {
   "cell_type": "code",
   "execution_count": 249,
   "metadata": {},
   "outputs": [
    {
     "name": "stdout",
     "output_type": "stream",
     "text": [
      "Cantidad Artifact: 58\n",
      "Cantidad normal/extrahls: 65\n",
      "Cantidad Murmur: 53\n"
     ]
    }
   ],
   "source": [
    "artifact=0\n",
    "normextra=0\n",
    "murmur=0\n",
    "for label in new_labels:\n",
    "    if label==0:\n",
    "        artifact+=1\n",
    "    elif label==1:\n",
    "        normextra+=1\n",
    "    elif label==2:\n",
    "        murmur+=1\n",
    "print (\"Cantidad Artifact:\", artifact)\n",
    "print (\"Cantidad normal/extrahls:\", normextra)\n",
    "print (\"Cantidad Murmur:\", murmur)"
   ]
  },
  {
   "cell_type": "markdown",
   "metadata": {},
   "source": [
    "La existencia de 3 clases es porque se fusionó 'normal' y 'extrahls'. Los datos a priori mal etiquetados afectan negativamente la calidad predictiva de los modelos que se entrenen con ellos. Con datos mal etiquetados, el modelo aprenderá características que en realidad no corresponden a la clase correcta, por lo que tenderá con mayor probabilidad a confundir datos de la clase real y aquella a la cual de verdad pertenece el dato mal etiquetado. Dependiendo del tipo de modelo y de la cantidad de datos de entrenamiento (bien etiquetados), un solo dato mal etiquetado podría o no afectar la calidad predictiva."
   ]
  },
  {
   "cell_type": "markdown",
   "metadata": {},
   "source": [
    "#### (d) Codificación de etiquetas a forma numérica para poder ser procesados por los algoritmos clasificadores"
   ]
  },
  {
   "cell_type": "code",
   "execution_count": 250,
   "metadata": {},
   "outputs": [],
   "source": [
    "new_df[\"target\"] = new_df[\"target\"].astype('category')\n",
    "cat_columns = new_df.select_dtypes(['category']).columns\n",
    "new_df[cat_columns] = new_df[cat_columns].apply(lambda x: x.cat.codes)"
   ]
  },
  {
   "cell_type": "code",
   "execution_count": 251,
   "metadata": {},
   "outputs": [
    {
     "data": {
      "text/html": [
       "<div>\n",
       "<style>\n",
       "    .dataframe thead tr:only-child th {\n",
       "        text-align: right;\n",
       "    }\n",
       "\n",
       "    .dataframe thead th {\n",
       "        text-align: left;\n",
       "    }\n",
       "\n",
       "    .dataframe tbody tr th {\n",
       "        vertical-align: top;\n",
       "    }\n",
       "</style>\n",
       "<table border=\"1\" class=\"dataframe\">\n",
       "  <thead>\n",
       "    <tr style=\"text-align: right;\">\n",
       "      <th></th>\n",
       "      <th>file_name</th>\n",
       "      <th>time_series</th>\n",
       "      <th>len_series</th>\n",
       "      <th>target</th>\n",
       "    </tr>\n",
       "  </thead>\n",
       "  <tbody>\n",
       "    <tr>\n",
       "      <th>0</th>\n",
       "      <td>artifact__201012172012.wav</td>\n",
       "      <td>[1.0, -3.0, -1.0, -7.0, -9.0, -2.0, -6.0, -5.0...</td>\n",
       "      <td>396900</td>\n",
       "      <td>0</td>\n",
       "    </tr>\n",
       "    <tr>\n",
       "      <th>1</th>\n",
       "      <td>artifact__201105040918.wav</td>\n",
       "      <td>[-2.0, 3.0, -4.0, 4.0, -3.0, 2.0, -1.0, 0.0, 0...</td>\n",
       "      <td>396900</td>\n",
       "      <td>0</td>\n",
       "    </tr>\n",
       "    <tr>\n",
       "      <th>2</th>\n",
       "      <td>artifact__201105041959.wav</td>\n",
       "      <td>[6.0, -4.0, -9.0, -1.0, -4.0, 1.0, -5.0, 2.0, ...</td>\n",
       "      <td>396900</td>\n",
       "      <td>0</td>\n",
       "    </tr>\n",
       "    <tr>\n",
       "      <th>3</th>\n",
       "      <td>artifact__201105051017.wav</td>\n",
       "      <td>[-85.0, -198.0, -214.0, -173.0, -177.0, -206.0...</td>\n",
       "      <td>396900</td>\n",
       "      <td>0</td>\n",
       "    </tr>\n",
       "    <tr>\n",
       "      <th>4</th>\n",
       "      <td>artifact__201105060108.wav</td>\n",
       "      <td>[53.0, -35.0, 47.0, 170.0, 340.0, 436.0, 535.0...</td>\n",
       "      <td>396900</td>\n",
       "      <td>0</td>\n",
       "    </tr>\n",
       "    <tr>\n",
       "      <th>5</th>\n",
       "      <td>artifact__201105061143.wav</td>\n",
       "      <td>[-2.0, 2.0, -2.0, 2.0, -2.0, 1.0, 1.0, -3.0, 3...</td>\n",
       "      <td>396900</td>\n",
       "      <td>0</td>\n",
       "    </tr>\n",
       "    <tr>\n",
       "      <th>6</th>\n",
       "      <td>artifact__201105190800.wav</td>\n",
       "      <td>[47.0, 70.0, 47.0, 58.0, 53.0, 45.0, 13.0, 21....</td>\n",
       "      <td>396900</td>\n",
       "      <td>0</td>\n",
       "    </tr>\n",
       "    <tr>\n",
       "      <th>7</th>\n",
       "      <td>artifact__201105280851.wav</td>\n",
       "      <td>[605.0, 648.0, 473.0, 171.0, -203.0, -512.0, -...</td>\n",
       "      <td>396900</td>\n",
       "      <td>0</td>\n",
       "    </tr>\n",
       "    <tr>\n",
       "      <th>8</th>\n",
       "      <td>artifact__201106010559.wav</td>\n",
       "      <td>[-49.0, 0.0, 17.0, -43.0, 30.0, 9.0, -29.0, 50...</td>\n",
       "      <td>396900</td>\n",
       "      <td>0</td>\n",
       "    </tr>\n",
       "    <tr>\n",
       "      <th>9</th>\n",
       "      <td>artifact__201106010602.wav</td>\n",
       "      <td>[52.0, -1291.0, -1116.0, 101.0, 2429.0, 3776.0...</td>\n",
       "      <td>396900</td>\n",
       "      <td>0</td>\n",
       "    </tr>\n",
       "  </tbody>\n",
       "</table>\n",
       "</div>"
      ],
      "text/plain": [
       "                    file_name  \\\n",
       "0  artifact__201012172012.wav   \n",
       "1  artifact__201105040918.wav   \n",
       "2  artifact__201105041959.wav   \n",
       "3  artifact__201105051017.wav   \n",
       "4  artifact__201105060108.wav   \n",
       "5  artifact__201105061143.wav   \n",
       "6  artifact__201105190800.wav   \n",
       "7  artifact__201105280851.wav   \n",
       "8  artifact__201106010559.wav   \n",
       "9  artifact__201106010602.wav   \n",
       "\n",
       "                                         time_series  len_series  target  \n",
       "0  [1.0, -3.0, -1.0, -7.0, -9.0, -2.0, -6.0, -5.0...      396900       0  \n",
       "1  [-2.0, 3.0, -4.0, 4.0, -3.0, 2.0, -1.0, 0.0, 0...      396900       0  \n",
       "2  [6.0, -4.0, -9.0, -1.0, -4.0, 1.0, -5.0, 2.0, ...      396900       0  \n",
       "3  [-85.0, -198.0, -214.0, -173.0, -177.0, -206.0...      396900       0  \n",
       "4  [53.0, -35.0, 47.0, 170.0, 340.0, 436.0, 535.0...      396900       0  \n",
       "5  [-2.0, 2.0, -2.0, 2.0, -2.0, 1.0, 1.0, -3.0, 3...      396900       0  \n",
       "6  [47.0, 70.0, 47.0, 58.0, 53.0, 45.0, 13.0, 21....      396900       0  \n",
       "7  [605.0, 648.0, 473.0, 171.0, -203.0, -512.0, -...      396900       0  \n",
       "8  [-49.0, 0.0, 17.0, -43.0, 30.0, 9.0, -29.0, 50...      396900       0  \n",
       "9  [52.0, -1291.0, -1116.0, 101.0, 2429.0, 3776.0...      396900       0  "
      ]
     },
     "execution_count": 251,
     "metadata": {},
     "output_type": "execute_result"
    }
   ],
   "source": [
    "new_df.head(10)"
   ]
  },
  {
   "cell_type": "markdown",
   "metadata": {},
   "source": [
    "#### (e) Ordenamiento aleatorio de los datos de entrenamiento. Creación de matriz de datos de entrenamiento 'X', y vector de etiquetas 'y'."
   ]
  },
  {
   "cell_type": "code",
   "execution_count": 252,
   "metadata": {},
   "outputs": [
    {
     "data": {
      "text/plain": [
       "(176, 396900)"
      ]
     },
     "execution_count": 252,
     "metadata": {},
     "output_type": "execute_result"
    }
   ],
   "source": [
    "new_df = new_df.sample(frac=1,random_state=44)\n",
    "X = np.stack(new_df['time_series'].values, axis=0)\n",
    "y = new_df.target.values\n",
    "X.shape"
   ]
  },
  {
   "cell_type": "markdown",
   "metadata": {},
   "source": [
    "#### (f) Apliación de Transformada de Fourier discreta a las series de tiempo del conjunto de datos de entrenamiento 'X'."
   ]
  },
  {
   "cell_type": "code",
   "execution_count": 253,
   "metadata": {},
   "outputs": [],
   "source": [
    "X_fourier = np.abs(np.fft.fft(X))"
   ]
  },
  {
   "cell_type": "code",
   "execution_count": 254,
   "metadata": {},
   "outputs": [],
   "source": [
    "# este bloque de código asume que cada dato en X está con \n",
    "# padding de ceros para que todos tengan la misma longitud\n",
    "\n",
    "n = X.shape[1] #largo de la señal\n",
    "t = float(n)/SAMPLE_RATE # duracion de la señal\n",
    "t_vector = np.arange(0, t, 1.0/SAMPLE_RATE)\n",
    "freq = np.arange(n)/t\n",
    "\n",
    "freq = freq[:int(n/2)]\n",
    "\n",
    "X_fourier_grafico = X_fourier[0][:int(n/2)]\n",
    "X_fourier_grafico = X_fourier_grafico/n"
   ]
  },
  {
   "cell_type": "code",
   "execution_count": 255,
   "metadata": {},
   "outputs": [
    {
     "data": {
      "text/plain": [
       "(198450,)"
      ]
     },
     "execution_count": 255,
     "metadata": {},
     "output_type": "execute_result"
    }
   ],
   "source": [
    "freq.shape"
   ]
  },
  {
   "cell_type": "code",
   "execution_count": 256,
   "metadata": {},
   "outputs": [
    {
     "data": {
      "text/plain": [
       "(198450,)"
      ]
     },
     "execution_count": 256,
     "metadata": {},
     "output_type": "execute_result"
    }
   ],
   "source": [
    "X_fourier_grafico.shape"
   ]
  },
  {
   "cell_type": "code",
   "execution_count": 257,
   "metadata": {},
   "outputs": [
    {
     "data": {
      "text/plain": [
       "1.3984300333064124"
      ]
     },
     "execution_count": 257,
     "metadata": {},
     "output_type": "execute_result"
    }
   ],
   "source": [
    "X_fourier_grafico[100]"
   ]
  },
  {
   "cell_type": "markdown",
   "metadata": {},
   "source": [
    "Se compara la 'forma' de cada dato antes y después de la transformación."
   ]
  },
  {
   "cell_type": "code",
   "execution_count": 273,
   "metadata": {},
   "outputs": [
    {
     "data": {
      "text/plain": [
       "<matplotlib.figure.Figure at 0x23c107d3780>"
      ]
     },
     "metadata": {},
     "output_type": "display_data"
    },
    {
     "data": {
      "image/png": "[encoded data removed]",
      "text/plain": [
       "<matplotlib.figure.Figure at 0x23c107117b8>"
      ]
     },
     "metadata": {},
     "output_type": "display_data"
    }
   ],
   "source": [
    "import matplotlib.pyplot as plt\n",
    "\n",
    "plt.clf()\n",
    "\n",
    "f, axarr = plt.subplots(2, figsize=(10,6))\n",
    "axarr[0].plot(t_vector, X[0])\n",
    "axarr[0].set_title('Serie de tiempo de X[0]')\n",
    "axarr[0].set_xlabel('Tiempo [s]')\n",
    "axarr[0].set_ylabel('Amplitud')\n",
    "axarr[1].plot(freq, X_fourier_grafico)\n",
    "axarr[1].set_title('Espectro de frecuencias de X[0]')\n",
    "axarr[1].set_xlabel('Frecuencia [Hz]')\n",
    "axarr[1].set_ylabel('|Amplitud(frecuencia)|')\n",
    "\n",
    "plt.tight_layout()\n",
    "\n",
    "plt.show()"
   ]
  },
  {
   "cell_type": "markdown",
   "metadata": {
    "collapsed": true
   },
   "source": [
    "#### (g) Generación de una muestra a partir de los datos de espectros de frecuencias."
   ]
  },
  {
   "cell_type": "markdown",
   "metadata": {},
   "source": [
    "El efecto de la ejecución del siguiente bloque de código es que la dimensionalidad de cada dato de entrenamiento se reducirá desde 396900 a sólo 100000. El beneficio de esto, es que la rapidez de ejecución de los algoritmos de aprendizaje será mayor pues se procesará aproximadamente sólo un cuarto de los datos originales. La efectividad del aprendizaje no se verá tan afectada si se logra un muestreo que tenga una distribución lo más parecida posible a la original."
   ]
  },
  {
   "cell_type": "code",
   "execution_count": 259,
   "metadata": {},
   "outputs": [
    {
     "data": {
      "text/plain": [
       "(176, 100000)"
      ]
     },
     "execution_count": 259,
     "metadata": {},
     "output_type": "execute_result"
    }
   ],
   "source": [
    "from scipy import signal\n",
    "\n",
    "X_resampled = []\n",
    "\n",
    "for i in range(X_fourier.shape[0]):\n",
    "    sequence = X_fourier[i,:].copy()\n",
    "    resampled_sequence = signal.resample(sequence, 100000)\n",
    "    X_resampled.append(resampled_sequence)\n",
    "    \n",
    "X_resampled = np.array(X_resampled)\n",
    "X_resampled.shape"
   ]
  },
  {
   "cell_type": "markdown",
   "metadata": {},
   "source": [
    "#### (h) Se divide el conjunto de datos muestreados en conjunto de entrenamiento y de pruebas."
   ]
  },
  {
   "cell_type": "code",
   "execution_count": 260,
   "metadata": {},
   "outputs": [],
   "source": [
    "from sklearn.model_selection import train_test_split\n",
    "\n",
    "X_train, X_test, y_train, y_test = train_test_split(X_resampled, \n",
    "                                                    y, \n",
    "                                                    test_size=0.25,\n",
    "                                                    random_state=42)"
   ]
  },
  {
   "cell_type": "code",
   "execution_count": 261,
   "metadata": {},
   "outputs": [
    {
     "name": "stdout",
     "output_type": "stream",
     "text": [
      "Cantidad de datos de entrenamiento: 132\n",
      "Cantidad de datos de prueba: 44\n"
     ]
    }
   ],
   "source": [
    "print (\"Cantidad de datos de entrenamiento:\", X_train.shape[0])\n",
    "print (\"Cantidad de datos de prueba:\", X_test.shape[0])"
   ]
  },
  {
   "cell_type": "markdown",
   "metadata": {},
   "source": [
    "#### (i) Estandarización del conjunto de datos de entrada (entrenamiento y pruebas)"
   ]
  },
  {
   "cell_type": "markdown",
   "metadata": {},
   "source": [
    "Se centran y escalan los datos usando la media y la desviación estándar de los datos de ETRENAMIENTO."
   ]
  },
  {
   "cell_type": "code",
   "execution_count": 262,
   "metadata": {},
   "outputs": [],
   "source": [
    "from sklearn.preprocessing import StandardScaler\n",
    "\n",
    "std = StandardScaler(with_mean=True, with_std=True)\n",
    "std.fit(X_train)\n",
    "X_train = std.transform(X_train)\n",
    "X_test = std.transform(X_test)"
   ]
  },
  {
   "cell_type": "markdown",
   "metadata": {},
   "source": [
    "#### (j) Uso de PCA para reducción de dimensionalidad a d=2 dimensiones. Visualización de la proyección generada."
   ]
  },
  {
   "cell_type": "markdown",
   "metadata": {},
   "source": [
    "Se genera una proyección en dos dimensiones de los conjuntos de entrenamiento y prueba."
   ]
  },
  {
   "cell_type": "code",
   "execution_count": 263,
   "metadata": {},
   "outputs": [],
   "source": [
    "from sklearn.decomposition import PCA\n",
    "\n",
    "d=2\n",
    "pca_model = PCA(n_components=d)\n",
    "pca_model.fit(X_train)\n",
    "X_pca_train = pca_model.transform(X_train)\n",
    "X_pca_test = pca_model.transform(X_test)"
   ]
  },
  {
   "cell_type": "code",
   "execution_count": 264,
   "metadata": {},
   "outputs": [
    {
     "data": {
      "text/plain": [
       "(132, 2)"
      ]
     },
     "execution_count": 264,
     "metadata": {},
     "output_type": "execute_result"
    }
   ],
   "source": [
    "X_pca_train.shape"
   ]
  },
  {
   "cell_type": "code",
   "execution_count": 265,
   "metadata": {},
   "outputs": [
    {
     "data": {
      "text/plain": [
       "array([-44.97739475, -15.03221551])"
      ]
     },
     "execution_count": 265,
     "metadata": {},
     "output_type": "execute_result"
    }
   ],
   "source": [
    "X_pca_train[0]"
   ]
  },
  {
   "cell_type": "markdown",
   "metadata": {},
   "source": [
    "Se visualizan los conjuntos proyectados. Los colores de los puntos se corresponden con la clase de cada uno:\n",
    "\n",
    "\n",
    "0: 'artifact' -> Rojo\n",
    "\n",
    "1: 'normal/extrahls' -> Verde\n",
    "\n",
    "2: 'murmur' -> Azul"
   ]
  },
  {
   "cell_type": "code",
   "execution_count": 266,
   "metadata": {},
   "outputs": [
    {
     "data": {
      "text/plain": [
       "<matplotlib.figure.Figure at 0x23c100bceb8>"
      ]
     },
     "metadata": {},
     "output_type": "display_data"
    },
    {
     "data": {
      "image/png": "[encoded data removed]",
      "text/plain": [
       "<matplotlib.figure.Figure at 0x23c100bc160>"
      ]
     },
     "metadata": {},
     "output_type": "display_data"
    }
   ],
   "source": [
    "color = {0: \"r\", 1: \"g\", 2: \"b\"}\n",
    "colores_train = [color[i] for i in y_train]\n",
    "colores_test = [color[i] for i in y_test]\n",
    "\n",
    "plt.clf()\n",
    "\n",
    "f, axarr = plt.subplots(2, 2, figsize=(15,15))\n",
    "axarr[0][0].scatter(X_pca_train.T[0], X_pca_train.T[1], c=colores_train)\n",
    "axarr[0][0].set_title('Entrenam.: proyección del espacio de entrada con d=2')\n",
    "axarr[0][1].scatter(X_pca_train.T[0], X_pca_train.T[1], c=colores_train)\n",
    "axarr[0][1].set_xlim([-100, 100])\n",
    "axarr[0][1].set_ylim([-100, 100])\n",
    "axarr[0][1].set_title('Entrenam.: acercamiento a la región [-100, 100]x[-100, 100]')\n",
    "axarr[1][0].scatter(X_pca_test.T[0], X_pca_test.T[1], c=colores_test)\n",
    "axarr[1][0].set_title('Pruebas: proyección del espacio de entrada con d=2')\n",
    "axarr[1][1].scatter(X_pca_test.T[0], X_pca_test.T[1], c=colores_test)\n",
    "axarr[1][1].set_xlim([-100, 100])\n",
    "axarr[1][1].set_ylim([-100, 100])\n",
    "axarr[1][1].set_title('Pruebas: acercamiento a la región [-100, 100]x[-100, 100]')\n",
    "\n",
    "plt.tight_layout()\n",
    "\n",
    "plt.show()"
   ]
  },
  {
   "cell_type": "markdown",
   "metadata": {},
   "source": [
    "Las clases no se separan tan explicitamente en el espacio proyectado. Las causas de esto son variadas, pero es posible que el factor más influyente sea la dependencia lineal entre los atributos. Al tratarse de espectros de frecuencia, éstos tienden a ser continuos, por lo que el valor del espectro en determinado punto influirá directamente en el valor del espectro en su vecindad. "
   ]
  },
  {
   "cell_type": "markdown",
   "metadata": {},
   "source": [
    "#### (k) Entrenamiento de modelo de Regresión Logística con parámetro de regularización C varible. Entrenamiento de Máquina de Vectores de Soporte de kernel lineal, con parámetro de regularización C variable."
   ]
  },
  {
   "cell_type": "code",
   "execution_count": 267,
   "metadata": {},
   "outputs": [],
   "source": [
    "def visualize_border(model,x,y,title=\"\"):\n",
    "    fig = plt.figure(figsize=(16,8))\n",
    "    plt.scatter(x[:,0], x[:,1], s=50, c=y, cmap=plt.cm.winter)\n",
    "    h = 1000 # step size in the mesh\n",
    "    x_min, x_max = x[:, 0].min() - 1, x[:, 0].max() + 1\n",
    "    y_min, y_max = x[:, 1].min() - 1, x[:, 1].max() + 1\n",
    "    xx, yy = np.meshgrid(np.linspace(x_min, x_max, h),np.linspace(y_min, y_max, h))\n",
    "    Z = model.predict(np.c_[xx.ravel(), yy.ravel()])\n",
    "    Z = Z.reshape(xx.shape)\n",
    "    plt.contour(xx, yy, Z, cmap=plt.cm.Paired)\n",
    "    plt.title(title)\n",
    "    plt.show()"
   ]
  },
  {
   "cell_type": "code",
   "execution_count": 268,
   "metadata": {},
   "outputs": [],
   "source": [
    "from sklearn.linear_model import LogisticRegression as LR\n",
    "from sklearn.svm import SVC as SVM #SVC is for classification\n",
    "\n",
    "def train_model_lr(param):\n",
    "    model=LR() #define your model\n",
    "    model.set_params(C=param,penalty='l2')\n",
    "    model.fit(X_pca_train,y_train)\n",
    "    return model\n",
    "\n",
    "def train_model_svm(param):\n",
    "    model= SVM()\n",
    "    model.set_params(C=param,kernel='linear')\n",
    "    model.fit(X_pca_train,y_train)\n",
    "    return model"
   ]
  },
  {
   "cell_type": "code",
   "execution_count": 269,
   "metadata": {},
   "outputs": [],
   "source": [
    "Cs = [0.0001,0.01,0.1,1,10,100,1000]"
   ]
  },
  {
   "cell_type": "code",
   "execution_count": 270,
   "metadata": {},
   "outputs": [],
   "source": [
    "from ipywidgets import interactive\n",
    "\n",
    "def visualize_border_interactive_lr(param):\n",
    "    model = train_model_lr(param)\n",
    "    print (\"Error: \", round(1.0-model.score(X_pca_test, y_test), 3))\n",
    "    visualize_border(model,X_pca_test,y_test)\n",
    "    \n",
    "def visualize_border_interactive_svm(param):\n",
    "    model = train_model_svm(param)\n",
    "    print (\"Error: \", round(1.0-model.score(X_pca_test, y_test), 3))\n",
    "    visualize_border(model,X_pca_test,y_test)"
   ]
  },
  {
   "cell_type": "code",
   "execution_count": 271,
   "metadata": {},
   "outputs": [
    {
     "data": {
      "application/vnd.jupyter.widget-view+json": {
       "model_id": "d447d27b93904c43a3809b3a9b1bd514",
       "version_major": 2,
       "version_minor": 0
      },
      "text/html": [
       "<p>Failed to display Jupyter Widget of type <code>interactive</code>.</p>\n",
       "<p>\n",
       "  If you're reading this message in the Jupyter Notebook or JupyterLab Notebook, it may mean\n",
       "  that the widgets JavaScript is still loading. If this message persists, it\n",
       "  likely means that the widgets JavaScript library is either not installed or\n",
       "  not enabled. See the <a href=\"https://ipywidgets.readthedocs.io/en/stable/user_install.html\">Jupyter\n",
       "  Widgets Documentation</a> for setup instructions.\n",
       "</p>\n",
       "<p>\n",
       "  If you're reading this message in another frontend (for example, a static\n",
       "  rendering on GitHub or <a href=\"https://nbviewer.jupyter.org/\">NBViewer</a>),\n",
       "  it may mean that your frontend doesn't currently support widgets.\n",
       "</p>\n"
      ],
      "text/plain": [
       "interactive(children=(Dropdown(description='param', options=(0.0001, 0.01, 0.1, 1, 10, 100, 1000), value=0.0001), Output()), _dom_classes=('widget-interact',))"
      ]
     },
     "metadata": {},
     "output_type": "display_data"
    }
   ],
   "source": [
    "interactive(visualize_border_interactive_lr, param=Cs)"
   ]
  },
  {
   "cell_type": "code",
   "execution_count": 272,
   "metadata": {},
   "outputs": [
    {
     "data": {
      "application/vnd.jupyter.widget-view+json": {
       "model_id": "d7fd6aa37d8c47afb5903d9174f531ca",
       "version_major": 2,
       "version_minor": 0
      },
      "text/html": [
       "<p>Failed to display Jupyter Widget of type <code>interactive</code>.</p>\n",
       "<p>\n",
       "  If you're reading this message in the Jupyter Notebook or JupyterLab Notebook, it may mean\n",
       "  that the widgets JavaScript is still loading. If this message persists, it\n",
       "  likely means that the widgets JavaScript library is either not installed or\n",
       "  not enabled. See the <a href=\"https://ipywidgets.readthedocs.io/en/stable/user_install.html\">Jupyter\n",
       "  Widgets Documentation</a> for setup instructions.\n",
       "</p>\n",
       "<p>\n",
       "  If you're reading this message in another frontend (for example, a static\n",
       "  rendering on GitHub or <a href=\"https://nbviewer.jupyter.org/\">NBViewer</a>),\n",
       "  it may mean that your frontend doesn't currently support widgets.\n",
       "</p>\n"
      ],
      "text/plain": [
       "interactive(children=(Dropdown(description='param', options=(0.0001, 0.01, 0.1, 1, 10, 100, 1000), value=0.0001), Output()), _dom_classes=('widget-interact',))"
      ]
     },
     "metadata": {},
     "output_type": "display_data"
    }
   ],
   "source": [
    "interactive(visualize_border_interactive_svm, param=Cs)"
   ]
  },
  {
   "cell_type": "markdown",
   "metadata": {},
   "source": [
    "El error de LR y SVM está mostrado a continuación:"
   ]
  },
  {
   "cell_type": "code",
   "execution_count": 274,
   "metadata": {},
   "outputs": [
    {
     "data": {
      "image/png": "[encoded data removed]",
      "text/plain": [
       "<matplotlib.figure.Figure at 0x23c10b2f710>"
      ]
     },
     "metadata": {},
     "output_type": "display_data"
    }
   ],
   "source": [
    "errores_lr = [1.0-train_model_lr(c).score(X_pca_test, y_test) for c in Cs]\n",
    "errores_svm = [1.0-train_model_svm(c).score(X_pca_test, y_test) for c in Cs]\n",
    "\n",
    "plt.figure(figsize=(15,5))\n",
    "plt.plot(Cs, errores_lr, c='r', label='Regresor Lineal')\n",
    "plt.plot(Cs, errores_svm, c='b', label='SVM')\n",
    "plt.xscale('log')\n",
    "plt.xlabel('C')\n",
    "plt.ylabel('Error')\n",
    "plt.legend(loc='upper right')\n",
    "plt.title('Fracción de Error de Prueba en función de C')\n",
    "plt.show()"
   ]
  },
  {
   "cell_type": "markdown",
   "metadata": {},
   "source": [
    "Los errores del Regresor Lineal y la SVM bordean el $45\\%$, siendo SVM ligeramente más efectiva cuando $C \\geq 10^2$. El error de clasificación es *malo*. En promedio, se equivoca casi la mitad de las veces."
   ]
  },
  {
   "cell_type": "markdown",
   "metadata": {},
   "source": [
    "#### (l) Entrenamiento de Árbol de Decisión, variando el hiperparámetro de máxima profundidad."
   ]
  },
  {
   "cell_type": "markdown",
   "metadata": {},
   "source": [
    "Primero se prueba el algoritmo de división de Gini."
   ]
  },
  {
   "cell_type": "code",
   "execution_count": 57,
   "metadata": {},
   "outputs": [
    {
     "data": {
      "application/vnd.jupyter.widget-view+json": {
       "model_id": "1503fe301be3491eb06ae466106e48d9",
       "version_major": 2,
       "version_minor": 0
      },
      "text/html": [
       "<p>Failed to display Jupyter Widget of type <code>interactive</code>.</p>\n",
       "<p>\n",
       "  If you're reading this message in the Jupyter Notebook or JupyterLab Notebook, it may mean\n",
       "  that the widgets JavaScript is still loading. If this message persists, it\n",
       "  likely means that the widgets JavaScript library is either not installed or\n",
       "  not enabled. See the <a href=\"https://ipywidgets.readthedocs.io/en/stable/user_install.html\">Jupyter\n",
       "  Widgets Documentation</a> for setup instructions.\n",
       "</p>\n",
       "<p>\n",
       "  If you're reading this message in another frontend (for example, a static\n",
       "  rendering on GitHub or <a href=\"https://nbviewer.jupyter.org/\">NBViewer</a>),\n",
       "  it may mean that your frontend doesn't currently support widgets.\n",
       "</p>\n"
      ],
      "text/plain": [
       "interactive(children=(Dropdown(description='param', options=(1, 2, 3, 4, 5, 6, 7, 8, 9, 10, 11, 12, 13, 14, 15, 16, 17, 18, 19, 20, 21, 22, 23, 24, 25, 26, 27, 28, 29), value=1), Output()), _dom_classes=('widget-interact',))"
      ]
     },
     "metadata": {},
     "output_type": "display_data"
    }
   ],
   "source": [
    "from sklearn.tree import DecisionTreeClassifier as Tree\n",
    "\n",
    "depths = range(1,30)\n",
    "\n",
    "def train_modelT_gini(param):\n",
    "    model = Tree() #edit the train_model function\n",
    "    model.set_params(max_depth=param,criterion='gini',splitter='best', random_state=1)\n",
    "    model.fit(X_pca_train,y_train)\n",
    "    return model\n",
    "\n",
    "def visualize_border_interactiveT_gini(param):\n",
    "    model = train_modelT_gini(param)\n",
    "    print (\"Error: \", round(1.0-model.score(X_pca_test, y_test), 3))\n",
    "    visualize_border(model,X_pca_test,y_test)\n",
    "\n",
    "interactive(visualize_border_interactiveT_gini,param=depths)"
   ]
  },
  {
   "cell_type": "markdown",
   "metadata": {},
   "source": [
    "Luego, se prueba Entropy."
   ]
  },
  {
   "cell_type": "code",
   "execution_count": 58,
   "metadata": {},
   "outputs": [
    {
     "data": {
      "application/vnd.jupyter.widget-view+json": {
       "model_id": "b4464366ca934d3391ace604fd54c8e8",
       "version_major": 2,
       "version_minor": 0
      },
      "text/html": [
       "<p>Failed to display Jupyter Widget of type <code>interactive</code>.</p>\n",
       "<p>\n",
       "  If you're reading this message in the Jupyter Notebook or JupyterLab Notebook, it may mean\n",
       "  that the widgets JavaScript is still loading. If this message persists, it\n",
       "  likely means that the widgets JavaScript library is either not installed or\n",
       "  not enabled. See the <a href=\"https://ipywidgets.readthedocs.io/en/stable/user_install.html\">Jupyter\n",
       "  Widgets Documentation</a> for setup instructions.\n",
       "</p>\n",
       "<p>\n",
       "  If you're reading this message in another frontend (for example, a static\n",
       "  rendering on GitHub or <a href=\"https://nbviewer.jupyter.org/\">NBViewer</a>),\n",
       "  it may mean that your frontend doesn't currently support widgets.\n",
       "</p>\n"
      ],
      "text/plain": [
       "interactive(children=(Dropdown(description='param', options=(1, 2, 3, 4, 5, 6, 7, 8, 9, 10, 11, 12, 13, 14, 15, 16, 17, 18, 19, 20, 21, 22, 23, 24, 25, 26, 27, 28, 29), value=1), Output()), _dom_classes=('widget-interact',))"
      ]
     },
     "metadata": {},
     "output_type": "display_data"
    }
   ],
   "source": [
    "def train_modelT_entropy(param):\n",
    "    model = Tree() #edit the train_model function\n",
    "    model.set_params(max_depth=param,criterion='entropy',splitter='best', random_state=1)\n",
    "    model.fit(X_pca_train,y_train)\n",
    "    return model\n",
    "\n",
    "def visualize_border_interactiveT_entropy(param):\n",
    "    model = train_modelT_entropy(param)\n",
    "    print (\"Error: \", round(1.0-model.score(X_pca_test, y_test), 3))\n",
    "    visualize_border(model,X_pca_test,y_test)\n",
    "\n",
    "interactive(visualize_border_interactiveT_entropy,param=depths)"
   ]
  },
  {
   "cell_type": "markdown",
   "metadata": {},
   "source": [
    "El error medio de clasificación de los árboles, en función de su profundidad, está presentado en el gráfico siguiente:"
   ]
  },
  {
   "cell_type": "code",
   "execution_count": 59,
   "metadata": {},
   "outputs": [
    {
     "data": {
      "image/png": "[encoded data removed]",
      "text/plain": [
       "<matplotlib.figure.Figure at 0x23c34feb7f0>"
      ]
     },
     "metadata": {},
     "output_type": "display_data"
    }
   ],
   "source": [
    "errores_gini = [1.0-train_modelT_gini(profundidad).score(X_pca_test,y_test) for profundidad in depths]\n",
    "errores_entropy = [1.0-train_modelT_entropy(profundidad).score(X_pca_test,y_test) for profundidad in depths]\n",
    "\n",
    "plt.figure(figsize=(15,5))\n",
    "plt.plot(depths, errores_gini, c='r', label='Gini')\n",
    "plt.plot(depths, errores_entropy, c='b', label='Entropy')\n",
    "plt.xlabel('Profundidad')\n",
    "plt.ylabel('Error')\n",
    "plt.legend(loc='upper right')\n",
    "plt.title('Fracción de Error con Distintos Algoritmos de División')\n",
    "plt.show()"
   ]
  },
  {
   "cell_type": "markdown",
   "metadata": {},
   "source": [
    "El error es altísimo (al rededor del $45\\%$ de los datos mal clasificados). El rendimiento, entonces, es similar al encontrado a LR vs SVM, a excepción de los mínimos logrados por Gini, que son del $38\\%$ aproximadamente, cuando la profundidad máxima estaba al rededor de 5."
   ]
  },
  {
   "cell_type": "markdown",
   "metadata": {},
   "source": [
    "#### (m) Experimentación con distintas cantidad de dimensiones de proyección d usando PCA. Encontrar aquel d que resulte en error menor."
   ]
  },
  {
   "cell_type": "markdown",
   "metadata": {},
   "source": [
    "El valor de $d$ puede variar entre 2 y 100000. Primero, se limitará este rango de variación entre 2 y 200, ya que no es recomentable tener más atributos que datos. Se usará el algoritmo 'Gini' y 'Entropy' para el entrenamiento del árbol, con una profundidad de 13, pues se cree, en base al desarrollo del ítem anterior, que la convergencia se logrará a esta misma profundidad con una proyección de mayor dimensionalidad."
   ]
  },
  {
   "cell_type": "code",
   "execution_count": 60,
   "metadata": {
    "scrolled": true
   },
   "outputs": [
    {
     "name": "stdout",
     "output_type": "stream",
     "text": [
      "Error con d=5 - Gini: 0.227 - Entropy: 0.182\n",
      "Error con d=10 - Gini: 0.250 - Entropy: 0.409\n",
      "Error con d=15 - Gini: 0.205 - Entropy: 0.227\n",
      "Error con d=20 - Gini: 0.318 - Entropy: 0.295\n",
      "Error con d=25 - Gini: 0.341 - Entropy: 0.364\n",
      "Error con d=30 - Gini: 0.341 - Entropy: 0.386\n",
      "Error con d=35 - Gini: 0.341 - Entropy: 0.409\n",
      "Error con d=40 - Gini: 0.364 - Entropy: 0.341\n",
      "Error con d=45 - Gini: 0.364 - Entropy: 0.364\n",
      "Error con d=50 - Gini: 0.455 - Entropy: 0.455\n",
      "Error con d=55 - Gini: 0.341 - Entropy: 0.455\n",
      "Error con d=60 - Gini: 0.386 - Entropy: 0.364\n",
      "Error con d=65 - Gini: 0.455 - Entropy: 0.409\n",
      "Error con d=70 - Gini: 0.364 - Entropy: 0.318\n",
      "Error con d=75 - Gini: 0.432 - Entropy: 0.341\n",
      "Error con d=80 - Gini: 0.409 - Entropy: 0.318\n",
      "Error con d=85 - Gini: 0.455 - Entropy: 0.295\n",
      "Error con d=90 - Gini: 0.477 - Entropy: 0.295\n",
      "Error con d=95 - Gini: 0.386 - Entropy: 0.341\n",
      "Error con d=100 - Gini: 0.364 - Entropy: 0.318\n",
      "Error con d=105 - Gini: 0.364 - Entropy: 0.364\n",
      "Error con d=110 - Gini: 0.341 - Entropy: 0.295\n",
      "Error con d=115 - Gini: 0.364 - Entropy: 0.341\n",
      "Error con d=120 - Gini: 0.386 - Entropy: 0.386\n",
      "Error con d=125 - Gini: 0.364 - Entropy: 0.341\n",
      "Error con d=130 - Gini: 0.386 - Entropy: 0.477\n",
      "Error con d=135 - Gini: 0.364 - Entropy: 0.341\n",
      "Error con d=140 - Gini: 0.364 - Entropy: 0.341\n",
      "Error con d=145 - Gini: 0.364 - Entropy: 0.341\n",
      "Error con d=150 - Gini: 0.364 - Entropy: 0.341\n",
      "Error con d=155 - Gini: 0.364 - Entropy: 0.341\n",
      "Error con d=160 - Gini: 0.364 - Entropy: 0.341\n",
      "Error con d=165 - Gini: 0.364 - Entropy: 0.341\n",
      "Error con d=170 - Gini: 0.364 - Entropy: 0.341\n",
      "Error con d=175 - Gini: 0.364 - Entropy: 0.341\n",
      "Error con d=180 - Gini: 0.364 - Entropy: 0.341\n",
      "Error con d=185 - Gini: 0.364 - Entropy: 0.341\n",
      "Error con d=190 - Gini: 0.364 - Entropy: 0.341\n",
      "Error con d=195 - Gini: 0.364 - Entropy: 0.341\n",
      "Error con d=200 - Gini: 0.364 - Entropy: 0.341\n"
     ]
    }
   ],
   "source": [
    "error_pca_variable_gini = []\n",
    "error_pca_variable_entropy = []\n",
    "\n",
    "for d in range(2, 201):\n",
    "    pca_model = PCA(n_components=d)\n",
    "    pca_model.fit(X_train)\n",
    "    X_pca_train = pca_model.transform(X_train)\n",
    "    X_pca_test = pca_model.transform(X_test)\n",
    "\n",
    "    error_pca_variable_gini.append(1.0-train_modelT_gini(param=13).score(X_pca_test,y_test))\n",
    "    error_pca_variable_entropy.append(1.0-train_modelT_entropy(param=13).score(X_pca_test,y_test))\n",
    "    \n",
    "    if d%5==0: print('Error con d=%d - Gini: %.3f - Entropy: %.3f' % \n",
    "                     (d, error_pca_variable_gini[-1], error_pca_variable_entropy[-1]))"
   ]
  },
  {
   "cell_type": "code",
   "execution_count": 61,
   "metadata": {},
   "outputs": [
    {
     "data": {
      "image/png": "[encoded data removed]",
      "text/plain": [
       "<matplotlib.figure.Figure at 0x23c34d86898>"
      ]
     },
     "metadata": {},
     "output_type": "display_data"
    }
   ],
   "source": [
    "plt.figure(figsize=(15,5))\n",
    "plt.plot(range(2,201), error_pca_variable_gini, c='r', label='Error Gini')\n",
    "plt.plot(range(2,201), error_pca_variable_entropy, c='b', label='Error Entropy')\n",
    "plt.xlabel('d')\n",
    "plt.ylabel('Error')\n",
    "plt.legend(loc='upper right')\n",
    "plt.title('Fracción de Error con respecto al aumento de d')\n",
    "plt.show()"
   ]
  },
  {
   "cell_type": "code",
   "execution_count": 62,
   "metadata": {},
   "outputs": [
    {
     "name": "stdout",
     "output_type": "stream",
     "text": [
      "Error minimo - Gini: 0.1818 - Entropy: 0.1818\n",
      "Valor de d optimo - Gini: 31 - Entropy: 3\n"
     ]
    }
   ],
   "source": [
    "print(\"Error minimo - Gini: %.4f - Entropy: %.4f\" % (min(error_pca_variable_gini), min(error_pca_variable_entropy)))\n",
    "print(\"Valor de d optimo - Gini: %d - Entropy: %d\" % (error_pca_variable_gini.index(min(error_pca_variable_gini)), error_pca_variable_entropy.index(min(error_pca_variable_entropy))))"
   ]
  },
  {
   "cell_type": "code",
   "execution_count": 63,
   "metadata": {},
   "outputs": [
    {
     "data": {
      "text/plain": [
       "[0.47727272727272729,\n",
       " 0.38636363636363635,\n",
       " 0.5,\n",
       " 0.36363636363636365,\n",
       " 0.36363636363636365]"
      ]
     },
     "execution_count": 63,
     "metadata": {},
     "output_type": "execute_result"
    }
   ],
   "source": [
    "error_pca_variable_gini[127:132]"
   ]
  },
  {
   "cell_type": "code",
   "execution_count": 64,
   "metadata": {},
   "outputs": [
    {
     "data": {
      "text/plain": [
       "[0.47727272727272729,\n",
       " 0.47727272727272729,\n",
       " 0.43181818181818177,\n",
       " 0.34090909090909094,\n",
       " 0.34090909090909094]"
      ]
     },
     "execution_count": 64,
     "metadata": {},
     "output_type": "execute_result"
    }
   ],
   "source": [
    "error_pca_variable_entropy[127:132]"
   ]
  },
  {
   "cell_type": "markdown",
   "metadata": {},
   "source": [
    "El mínimo error se presenta cuando se usa 'Entropy', con $d=3$, y corresponde a $0.\\bar{18}$. También se nota que ambos algoritmos convergen en el mismo valor de dimensionalidad, $d=131$. Agregar más atributos no mejora la capacidad de clasificación, por lo tanto, no aportan información *nueva* a la ya contenida en la proyección actual. Notar que, como se está midiendo el error de clasificación y no la métrica de pérdida, entonces la gráfica probablemente resulte con variaciones fluctuantes y de carácter discreto. Además, un mínimo de error de clasificación no necesariamente va a estar asociado a un mínimo de *loss*, es por eso que el mínimo encontrado no se encuentra al extremo derecho de la gráfica."
   ]
  },
  {
   "cell_type": "markdown",
   "metadata": {},
   "source": [
    "#### (n) Reducción de dimensionalidad con LDA, a d=2 dimensiones."
   ]
  },
  {
   "cell_type": "code",
   "execution_count": 65,
   "metadata": {},
   "outputs": [
    {
     "name": "stderr",
     "output_type": "stream",
     "text": [
      "c:\\program files\\python35\\lib\\site-packages\\sklearn\\discriminant_analysis.py:388: UserWarning: Variables are collinear.\n",
      "  warnings.warn(\"Variables are collinear.\")\n"
     ]
    }
   ],
   "source": [
    "from sklearn.discriminant_analysis import LinearDiscriminantAnalysis as LDA\n",
    "\n",
    "model_lda = LDA(n_components=2)\n",
    "model_lda.fit(X_train,y_train)\n",
    "X_lda_train = model_lda.transform(X_train)\n",
    "X_lda_test = model_lda.transform(X_test)"
   ]
  },
  {
   "cell_type": "markdown",
   "metadata": {},
   "source": [
    "Al ejecutar el bloque de código anterior, se muestra un *warning* que dice: *warnings.warn(\"Variables are collinear.\")*. Esto es que las variables (cada dato de entrenamiento), están correlacionadas, lo que perjudica al momento de calcular la matriz inversa del conjunto de datos $X$, pues se tendrá que $X$ es *cercana* a ser singular. El efecto de esto es que los nuevos datos $(x_1^{LDA}$, $x_2^{LDA})$ generados por LDA no serán *confiables* o estables. Pequeños cambios en la matriz $X$ producirán grandes cambios en los $(x_1^{LDA}$, $x_2^{LDA})$. También, se sobreestimará y/o subestimará el aporte de algunos atributos al momento de generar cada par $(x_1^{LDA}$, $x_2^{LDA})$.\n",
    "\n",
    "\n",
    "A continuación, se grafica la proyección obtenida, usando la misma leyenda de colores:\n",
    "\n",
    "0: 'artifact' -> Rojo\n",
    "\n",
    "1: 'normal/extrahls' -> Verde\n",
    "\n",
    "2: 'murmur' -> Azul"
   ]
  },
  {
   "cell_type": "code",
   "execution_count": 66,
   "metadata": {},
   "outputs": [
    {
     "data": {
      "text/plain": [
       "<matplotlib.figure.Figure at 0x23c32691fd0>"
      ]
     },
     "metadata": {},
     "output_type": "display_data"
    },
    {
     "data": {
      "image/png": "[encoded data removed]",
      "text/plain": [
       "<matplotlib.figure.Figure at 0x23c32691860>"
      ]
     },
     "metadata": {},
     "output_type": "display_data"
    }
   ],
   "source": [
    "color = {0: \"r\", 1: \"g\", 2: \"b\"}\n",
    "colores_train = [color[i] for i in y_train]\n",
    "colores_test = [color[i] for i in y_test]\n",
    "\n",
    "plt.clf()\n",
    "\n",
    "f, axarr = plt.subplots(2, 2, figsize=(15,15))\n",
    "axarr[0][0].scatter(X_lda_train.T[0], X_lda_train.T[1], c=colores_train)\n",
    "axarr[0][0].set_title('Entrenam.: proyección del espacio de entrada con d=2')\n",
    "axarr[0][1].scatter(X_lda_train.T[0], X_lda_train.T[1], c=colores_train)\n",
    "axarr[0][1].set_xlim([-50, 50])\n",
    "axarr[0][1].set_ylim([-50, 50])\n",
    "axarr[0][1].set_title('Entrenam.: acercamiento a la región [-50, 50]x[-50, 50]')\n",
    "axarr[1][0].scatter(X_lda_test.T[0], X_lda_test.T[1], c=colores_test)\n",
    "axarr[1][0].set_title('Pruebas: proyección del espacio de entrada con d=2')\n",
    "axarr[1][1].scatter(X_lda_test.T[0], X_lda_test.T[1], c=colores_test)\n",
    "axarr[1][1].set_xlim([-50, 50])\n",
    "axarr[1][1].set_ylim([-50, 50])\n",
    "axarr[1][1].set_title('Pruebas: acercamiento a la región [-50, 50]x[-50, 50]')\n",
    "\n",
    "plt.tight_layout()\n",
    "\n",
    "plt.show()"
   ]
  },
  {
   "cell_type": "markdown",
   "metadata": {},
   "source": [
    "Si bien, el conjunto de entrenamiento se proyecta de manera correcta, el efecto de la colinealidad de los datos se hace evidente cuando se intenta aplicar la misma proyección sobre el conjunto de prueba: las tres clases de datos quedan superpuestas, y algunos de los puntos se alejan mucho del origen. Esto se corresponde con la afirmación de que cambios pequeños en el conjunto de datos generan grandes cambios en la proyección resultante."
   ]
  },
  {
   "cell_type": "markdown",
   "metadata": {},
   "source": [
    "#### (o) Repetición de los ítems (h) y (i), usando ahora la proyección de d dimensiones obtenida con LDA."
   ]
  },
  {
   "cell_type": "code",
   "execution_count": 67,
   "metadata": {},
   "outputs": [
    {
     "name": "stderr",
     "output_type": "stream",
     "text": [
      "c:\\program files\\python35\\lib\\site-packages\\sklearn\\discriminant_analysis.py:388: UserWarning: Variables are collinear.\n",
      "  warnings.warn(\"Variables are collinear.\")\n"
     ]
    }
   ],
   "source": [
    "from sklearn.model_selection import train_test_split\n",
    "from sklearn.preprocessing import StandardScaler\n",
    "from sklearn.discriminant_analysis import LinearDiscriminantAnalysis as LDA\n",
    "\n",
    "X_train, X_test, y_train, y_test = train_test_split(X_resampled, y,\n",
    "                                                    test_size=0.25, random_state=42)\n",
    "\n",
    "std = StandardScaler(with_mean=True, with_std=True)\n",
    "std.fit(X_train)\n",
    "X_train = std.transform(X_train)\n",
    "X_test = std.transform(X_test)\n",
    "\n",
    "model_lda = LDA(n_components=2)\n",
    "model_lda.fit(X_train,y_train)\n",
    "X_lda_train = model_lda.transform(X_train)\n",
    "X_lda_test = model_lda.transform(X_test)"
   ]
  },
  {
   "cell_type": "markdown",
   "metadata": {},
   "source": [
    "Se repetirá el ítem (k) y (l):"
   ]
  },
  {
   "cell_type": "markdown",
   "metadata": {},
   "source": [
    "Se entrena un regresor lineal:"
   ]
  },
  {
   "cell_type": "code",
   "execution_count": 275,
   "metadata": {},
   "outputs": [],
   "source": [
    "from ipywidgets import interactive\n",
    "from sklearn.linear_model import LogisticRegression as LR\n",
    "from sklearn.svm import SVC as SVM #SVC is for classification\n",
    "\n",
    "def train_model_lr(param):\n",
    "    model=LR() #define your model\n",
    "    model.set_params(C=param,penalty='l2')\n",
    "    model.fit(X_lda_train,y_train)\n",
    "    return model\n",
    "\n",
    "def train_model_svm(param):\n",
    "    model= SVM()\n",
    "    model.set_params(C=param,kernel='linear')\n",
    "    model.fit(X_lda_train,y_train)\n",
    "    return model\n",
    "\n",
    "def visualize_border_interactive_lr(param):\n",
    "    model = train_model_lr(param)\n",
    "    print (\"Error: \", round(1.0-model.score(X_lda_test, y_test), 3))\n",
    "    visualize_border(model,X_lda_test,y_test)\n",
    "    \n",
    "def visualize_border_interactive_svm(param):\n",
    "    model = train_model_svm(param)\n",
    "    print (\"Error: \", round(1.0-model.score(X_lda_test, y_test), 3))\n",
    "    visualize_border(model,X_lda_test,y_test)"
   ]
  },
  {
   "cell_type": "code",
   "execution_count": 279,
   "metadata": {},
   "outputs": [
    {
     "data": {
      "application/vnd.jupyter.widget-view+json": {
       "model_id": "82f12a9812c242a28c96fe6682e3e0e5",
       "version_major": 2,
       "version_minor": 0
      },
      "text/html": [
       "<p>Failed to display Jupyter Widget of type <code>interactive</code>.</p>\n",
       "<p>\n",
       "  If you're reading this message in the Jupyter Notebook or JupyterLab Notebook, it may mean\n",
       "  that the widgets JavaScript is still loading. If this message persists, it\n",
       "  likely means that the widgets JavaScript library is either not installed or\n",
       "  not enabled. See the <a href=\"https://ipywidgets.readthedocs.io/en/stable/user_install.html\">Jupyter\n",
       "  Widgets Documentation</a> for setup instructions.\n",
       "</p>\n",
       "<p>\n",
       "  If you're reading this message in another frontend (for example, a static\n",
       "  rendering on GitHub or <a href=\"https://nbviewer.jupyter.org/\">NBViewer</a>),\n",
       "  it may mean that your frontend doesn't currently support widgets.\n",
       "</p>\n"
      ],
      "text/plain": [
       "interactive(children=(Dropdown(description='param', options=(0.0001, 0.01, 0.1, 1, 10, 100, 1000), value=0.0001), Output()), _dom_classes=('widget-interact',))"
      ]
     },
     "metadata": {},
     "output_type": "display_data"
    }
   ],
   "source": [
    "interactive(visualize_border_interactive_lr, param=Cs)"
   ]
  },
  {
   "cell_type": "code",
   "execution_count": 280,
   "metadata": {},
   "outputs": [
    {
     "data": {
      "application/vnd.jupyter.widget-view+json": {
       "model_id": "0f72873f482e4e988924bdf06c209487",
       "version_major": 2,
       "version_minor": 0
      },
      "text/html": [
       "<p>Failed to display Jupyter Widget of type <code>interactive</code>.</p>\n",
       "<p>\n",
       "  If you're reading this message in the Jupyter Notebook or JupyterLab Notebook, it may mean\n",
       "  that the widgets JavaScript is still loading. If this message persists, it\n",
       "  likely means that the widgets JavaScript library is either not installed or\n",
       "  not enabled. See the <a href=\"https://ipywidgets.readthedocs.io/en/stable/user_install.html\">Jupyter\n",
       "  Widgets Documentation</a> for setup instructions.\n",
       "</p>\n",
       "<p>\n",
       "  If you're reading this message in another frontend (for example, a static\n",
       "  rendering on GitHub or <a href=\"https://nbviewer.jupyter.org/\">NBViewer</a>),\n",
       "  it may mean that your frontend doesn't currently support widgets.\n",
       "</p>\n"
      ],
      "text/plain": [
       "interactive(children=(Dropdown(description='param', options=(0.0001, 0.01, 0.1, 1, 10, 100, 1000), value=0.0001), Output()), _dom_classes=('widget-interact',))"
      ]
     },
     "metadata": {},
     "output_type": "display_data"
    }
   ],
   "source": [
    "interactive(visualize_border_interactive_svm, param=Cs)"
   ]
  },
  {
   "cell_type": "markdown",
   "metadata": {},
   "source": [
    "El rendimiento de la clasificación sobre el conjunto de pruebas es mucho peor que usando PCA. La causa de esto es la colinealidad de los datos $x^l \\in X$ de entrada."
   ]
  },
  {
   "cell_type": "code",
   "execution_count": 278,
   "metadata": {},
   "outputs": [
    {
     "data": {
      "image/png": "[encoded data removed]",
      "text/plain": [
       "<matplotlib.figure.Figure at 0x23c10015e80>"
      ]
     },
     "metadata": {},
     "output_type": "display_data"
    }
   ],
   "source": [
    "errores_lr_lda = [1.0-train_model_lr(c).score(X_lda_test, y_test) for c in Cs]\n",
    "errores_svm_lda = [1.0-train_model_svm(c).score(X_lda_test, y_test) for c in Cs]\n",
    "\n",
    "plt.figure(figsize=(15,5))\n",
    "plt.plot(Cs, errores_lr_lda, c='r', label='Regresor Lineal')\n",
    "plt.plot(Cs, errores_svm_lda, c='b', label='SVM')\n",
    "plt.xscale('log')\n",
    "plt.xlabel('C')\n",
    "plt.ylabel('Error')\n",
    "plt.legend(loc='upper right')\n",
    "plt.title('(LDA) Fracción de Error de Prueba en función de C')\n",
    "plt.show()"
   ]
  },
  {
   "cell_type": "markdown",
   "metadata": {},
   "source": [
    "El error mejora bastante en comparación al uso de PCA. Se disminuye desde un $45\\%$ hasta al rededor del $30\\%$ para ambos LR y SVM."
   ]
  },
  {
   "cell_type": "markdown",
   "metadata": {},
   "source": [
    "A continuación se probará con árboles de clasificación. Uso de algoritmos 'Gini' y 'Entropy'."
   ]
  },
  {
   "cell_type": "code",
   "execution_count": 283,
   "metadata": {},
   "outputs": [
    {
     "data": {
      "application/vnd.jupyter.widget-view+json": {
       "model_id": "d71d7403cad1469fa0ad7c79a979bce5",
       "version_major": 2,
       "version_minor": 0
      },
      "text/html": [
       "<p>Failed to display Jupyter Widget of type <code>interactive</code>.</p>\n",
       "<p>\n",
       "  If you're reading this message in the Jupyter Notebook or JupyterLab Notebook, it may mean\n",
       "  that the widgets JavaScript is still loading. If this message persists, it\n",
       "  likely means that the widgets JavaScript library is either not installed or\n",
       "  not enabled. See the <a href=\"https://ipywidgets.readthedocs.io/en/stable/user_install.html\">Jupyter\n",
       "  Widgets Documentation</a> for setup instructions.\n",
       "</p>\n",
       "<p>\n",
       "  If you're reading this message in another frontend (for example, a static\n",
       "  rendering on GitHub or <a href=\"https://nbviewer.jupyter.org/\">NBViewer</a>),\n",
       "  it may mean that your frontend doesn't currently support widgets.\n",
       "</p>\n"
      ],
      "text/plain": [
       "interactive(children=(Dropdown(description='param', options=(1, 2, 3, 4, 5, 6, 7, 8, 9, 10, 11, 12, 13, 14, 15, 16, 17, 18, 19, 20, 21, 22, 23, 24, 25, 26, 27, 28, 29), value=1), Output()), _dom_classes=('widget-interact',))"
      ]
     },
     "metadata": {},
     "output_type": "display_data"
    }
   ],
   "source": [
    "def train_modelT_gini(param):\n",
    "    model = Tree() #edit the train_model function\n",
    "    model.set_params(max_depth=param,criterion='gini',splitter='best', random_state=1)\n",
    "    model.fit(X_lda_train,y_train)\n",
    "    return model\n",
    "\n",
    "def visualize_border_interactiveT_gini(param):\n",
    "    model = train_modelT_gini(param)\n",
    "    print (\"Error: \", round(1.0-model.score(X_lda_test, y_test), 3))\n",
    "    visualize_border(model,X_lda_test,y_test)\n",
    "\n",
    "interactive(visualize_border_interactiveT_gini,param=depths)"
   ]
  },
  {
   "cell_type": "code",
   "execution_count": 284,
   "metadata": {},
   "outputs": [
    {
     "data": {
      "application/vnd.jupyter.widget-view+json": {
       "model_id": "280917d32531438a96cc3101895ecf30",
       "version_major": 2,
       "version_minor": 0
      },
      "text/html": [
       "<p>Failed to display Jupyter Widget of type <code>interactive</code>.</p>\n",
       "<p>\n",
       "  If you're reading this message in the Jupyter Notebook or JupyterLab Notebook, it may mean\n",
       "  that the widgets JavaScript is still loading. If this message persists, it\n",
       "  likely means that the widgets JavaScript library is either not installed or\n",
       "  not enabled. See the <a href=\"https://ipywidgets.readthedocs.io/en/stable/user_install.html\">Jupyter\n",
       "  Widgets Documentation</a> for setup instructions.\n",
       "</p>\n",
       "<p>\n",
       "  If you're reading this message in another frontend (for example, a static\n",
       "  rendering on GitHub or <a href=\"https://nbviewer.jupyter.org/\">NBViewer</a>),\n",
       "  it may mean that your frontend doesn't currently support widgets.\n",
       "</p>\n"
      ],
      "text/plain": [
       "interactive(children=(Dropdown(description='param', options=(1, 2, 3, 4, 5, 6, 7, 8, 9, 10, 11, 12, 13, 14, 15, 16, 17, 18, 19, 20, 21, 22, 23, 24, 25, 26, 27, 28, 29), value=1), Output()), _dom_classes=('widget-interact',))"
      ]
     },
     "metadata": {},
     "output_type": "display_data"
    }
   ],
   "source": [
    "def train_modelT_entropy(param):\n",
    "    model = Tree() #edit the train_model function\n",
    "    model.set_params(max_depth=param,criterion='entropy',splitter='best', random_state=1)\n",
    "    model.fit(X_lda_train,y_train)\n",
    "    return model\n",
    "\n",
    "def visualize_border_interactiveT_entropy(param):\n",
    "    model = train_modelT_entropy(param)\n",
    "    print (\"Error: \", round(1.0-model.score(X_lda_test, y_test), 3))\n",
    "    visualize_border(model,X_lda_test,y_test)\n",
    "\n",
    "interactive(visualize_border_interactiveT_entropy,param=depths)"
   ]
  },
  {
   "cell_type": "markdown",
   "metadata": {},
   "source": [
    "Comparación de error en función de la profundidad:"
   ]
  },
  {
   "cell_type": "code",
   "execution_count": 285,
   "metadata": {},
   "outputs": [
    {
     "data": {
      "image/png": "[encoded data removed]",
      "text/plain": [
       "<matplotlib.figure.Figure at 0x23c109f6358>"
      ]
     },
     "metadata": {},
     "output_type": "display_data"
    }
   ],
   "source": [
    "errores_gini = [1.0-train_modelT_gini(profundidad).score(X_lda_test,y_test) for profundidad in depths]\n",
    "errores_entropy = [1.0-train_modelT_entropy(profundidad).score(X_lda_test,y_test) for profundidad in depths]\n",
    "\n",
    "plt.figure(figsize=(15,5))\n",
    "plt.plot(depths, errores_gini, c='r', label='Gini')\n",
    "plt.plot(depths, errores_entropy, c='b', label='Entropy')\n",
    "plt.xlabel('Profundidad')\n",
    "plt.ylabel('Error')\n",
    "plt.legend(loc='upper right')\n",
    "plt.title('(LDA) Fracción de Error con Distintos Algoritmos de División')\n",
    "plt.show()"
   ]
  },
  {
   "cell_type": "code",
   "execution_count": 83,
   "metadata": {},
   "outputs": [
    {
     "name": "stdout",
     "output_type": "stream",
     "text": [
      "Error minimo - Gini: 0.3182 - Entropy: 0.3182\n",
      "Profunidad optima - Gini: 1 - Entropy: 1\n"
     ]
    }
   ],
   "source": [
    "print(\"Error minimo - Gini: %.4f - Entropy: %.4f\" % (min(errores_gini), min(errores_entropy)))\n",
    "print(\"Profunidad optima - Gini: %d - Entropy: %d\" % (errores_gini.index(min(errores_gini)), errores_entropy.index(min(errores_entropy))))"
   ]
  },
  {
   "cell_type": "markdown",
   "metadata": {},
   "source": [
    "Por lo tanto, se nota que los modelos se desempeñan peor usando LDA. Como se dijo anteriormente, LDA combina todos los atributos para producir $d=2$, que son la proyección. El supuesto que se tiene que cumplir para el buen funcionamiento de LDA es que los atributos sean linealmente independientes, lo que no se cumple. Por lo tanto, los $d$ atributos de la proyección se comportarán de manera inesperada respecto a cambios en la matriz de entrada $X$. En este caso, el cambio producido en $X$ es que se reemplazó el conjunto de entrenamiento por el de pruebas. Si bien, la proyección ajustada al conjunto de entrenamiento resulta ser *correcta* en el sentido que separa de manera aceptable las clases, esta misma proyección entrega resultados completamente distintos a una separación aceptable, cuando se le entrega la matriz de datos de prueba.\n",
    "\n",
    "Esta *mala* proyección impidió a los modelos lineales usados lograr mejores resultados que los observados.\n",
    "\n",
    "Con PCA ocurrió algo similar, pero en mayor medida. PCA también requiere que los atributos sean linealmente independientes, pero con la diferencia de que no considera la pertenencia de los datos a cada clase (cuando LDA sí lo hace). Por lo tanto, al hacer eliminación de atributos, PCA probablemente aumentó la varianza de los datos pertenecientes a una o más clases, mientras que LDA trata de mantener esa varianza."
   ]
  },
  {
   "cell_type": "markdown",
   "metadata": {},
   "source": [
    "#### (m) Diseño de características a partir de las secuencias de amplitudes (datos brutos) para mejorar el rendimiento de los modelos clasificadores ya entrenados."
   ]
  },
  {
   "cell_type": "markdown",
   "metadata": {},
   "source": [
    "Se usará el método de la referencia número 6 del enunciado de la tarea. Cada una de las series de amplitudes se transformará a un vector de algunos de los siguientes estadísticos relevantes:\n",
    "\n",
    "\n",
    "1. meanfreq: mean frequency (in kHz)\n",
    "\n",
    "2. sd: standard deviation of frequency\n",
    "\n",
    "3. median: median frequency (in kHz)\n",
    "\n",
    "4. Q25: first quantile (in kHz)\n",
    "\n",
    "5. Q75: third quantile (in kHz)\n",
    "\n",
    "6. IQR: interquantile range (in kHz)\n",
    "\n",
    "7. skew: skewness (see note in specprop description)\n",
    "\n",
    "8. kurt: kurtosis (see note in specprop description)\n",
    "\n",
    "9. sp.ent: spectral entropy\n",
    "\n",
    "10. sfm: spectral flatness\n",
    "\n",
    "11. mode: mode frequency\n",
    "\n",
    "12. centroid: frequency centroid (see specprop)\n",
    "\n",
    "13. peakf: peak frequency (frequency with highest energy)\n",
    "\n",
    "14. meanfun: average of fundamental frequency measured across acoustic signal\n",
    "\n",
    "15. minfun: minimum fundamental frequency measured across acoustic signal\n",
    "\n",
    "16. maxfun: maximum fundamental frequency measured across acoustic signal\n",
    "\n",
    "17. meandom: average of dominant frequency measured across acoustic signal\n",
    "\n",
    "18. mindom: minimum of dominant frequency measured across acoustic signal\n",
    "\n",
    "19. maxdom: maximum of dominant frequency measured across acoustic signal\n",
    "\n",
    "20. dfrange: range of dominant frequency measured across acoustic signal\n",
    "\n",
    "21. modindx: modulation index. Calculated as the accumulated absolute \n",
    "difference between adjacent measurements of fundamental frequencies divided \n",
    "by the frequency range\n",
    "\n",
    "y: label: 0 (artifact), 1 (normal/extrahls), 2 (murmur)"
   ]
  },
  {
   "cell_type": "markdown",
   "metadata": {},
   "source": [
    "Con la siguiente función, se extraen 4 características de los espectros de frecuencia: la media, desviación estándar, mediana y moda. Éstos serán los nuevos atributos a usarse para la clasificación."
   ]
  },
  {
   "cell_type": "code",
   "execution_count": 175,
   "metadata": {},
   "outputs": [],
   "source": [
    "import scipy.fftpack as fftpack\n",
    "\n",
    "# frecuencia media en kHz y mas\n",
    "def generar_dataset_de_estadisticos(rate, data):\n",
    "    sample_length = len(data)\n",
    "    k = np.arange(sample_length)\n",
    "    period = sample_length / rate\n",
    "    freqs = (k / period)[range(int(sample_length / 2))] #right-side frequency range\n",
    "    fourier = abs(fftpack.fft(data * np.hanning(sample_length)) / sample_length) #normalized, not clipped\n",
    "    fourier = fourier[range(int(sample_length / 2))] #clip to right-side\n",
    "    power = np.power(fourier, 2.0)\n",
    "    \n",
    "    # calculo de media en Hz\n",
    "    frecuencia_media = sum(power * freqs) / sum(power)\n",
    "    #print(\"Media encontrada:\",frecuencia_media)\n",
    "    #var_frecuencia = sum(np.power((power * freqs), 2.0))/sum(power) - np.power(frecuencia_media, 2.0)\n",
    "    \n",
    "    # calculo de desv estandar en Hz\n",
    "    desv_estandar_frecuencia = np.sqrt(sum((power / sum(power)) * np.power(freqs - frecuencia_media, 2.0)))\n",
    "    #print(\"Desv. Est. Encontrada:\", desv_estandar_frecuencia)\n",
    "    \n",
    "    # calculo de mediana en Hz\n",
    "    mediana_frecuencia = 0.0\n",
    "    percentil = 0.0\n",
    "    indice_inferior = 0\n",
    "    indice_superior = len(power)-1\n",
    "    mediana = int(frecuencia_media)\n",
    "    umbral = 1\n",
    "    suma_inferior = sum(power.tolist()[indice_inferior:mediana])\n",
    "    suma_superior = sum(power.tolist()[mediana:indice_superior]) \n",
    "    while(indice_superior - indice_inferior > 1):\n",
    "        if (suma_superior > suma_inferior):\n",
    "            indice_inferior = mediana\n",
    "            mediana = int((mediana+indice_superior)/2)\n",
    "        else:\n",
    "            indice_superior = mediana\n",
    "            mediana = int((mediana+indice_inferior)/2)\n",
    "        suma_inferior = sum(power.tolist()[indice_inferior:mediana])\n",
    "        suma_superior = sum(power.tolist()[mediana:indice_superior]) \n",
    "        \n",
    "    #print(\"Mediana encontrada:\", freqs[mediana])\n",
    "    # calculo de moda en Hz\n",
    "    moda_frecuencia = freqs[np.argmax(power)]\n",
    "    #print(\"Moda encontrada:\", freqs[moda_frecuencia])\n",
    "    \n",
    "    return frecuencia_media, desv_estandar_frecuencia, freqs[mediana], moda_frecuencia\n"
   ]
  },
  {
   "cell_type": "markdown",
   "metadata": {},
   "source": [
    "A continuación, se genera el nuevo dataset, usando como atributos los cuatro anteriormente seleccionados."
   ]
  },
  {
   "cell_type": "code",
   "execution_count": 190,
   "metadata": {
    "scrolled": true
   },
   "outputs": [],
   "source": [
    "X_nuevo = np.empty((0, 4), float)\n",
    "for x in X:\n",
    "    a,b,c,d=generar_dataset_de_estadisticos(SAMPLE_RATE, x)\n",
    "    X_nuevo = np.append(X_nuevo, np.array([[a,b,c,d]]), axis=0)\n",
    "\n",
    "X_nuevo = X_nuevo/1000 # Se divide en mil para presentar cantidades en kHz"
   ]
  },
  {
   "cell_type": "markdown",
   "metadata": {},
   "source": [
    "Se divide el dataset en conjunto de entrenamiento y de prueba."
   ]
  },
  {
   "cell_type": "code",
   "execution_count": 196,
   "metadata": {},
   "outputs": [],
   "source": [
    "X_train_nuevo, X_test_nuevo, y_train, y_test = train_test_split(X_nuevo, \n",
    "                                                    y, \n",
    "                                                    test_size=0.25,\n",
    "                                                    random_state=42)"
   ]
  },
  {
   "cell_type": "code",
   "execution_count": 198,
   "metadata": {},
   "outputs": [
    {
     "name": "stdout",
     "output_type": "stream",
     "text": [
      "Cantidad de datos de entrenamiento: 132\n",
      "Cantidad de datos de prueba: 44\n"
     ]
    }
   ],
   "source": [
    "print (\"Cantidad de datos de entrenamiento:\", X_train_nuevo.shape[0])\n",
    "print (\"Cantidad de datos de prueba:\", X_test_nuevo.shape[0])"
   ]
  },
  {
   "cell_type": "markdown",
   "metadata": {},
   "source": [
    "Se escalan y centran los conjuntos de datos."
   ]
  },
  {
   "cell_type": "code",
   "execution_count": 200,
   "metadata": {},
   "outputs": [],
   "source": [
    "std = StandardScaler(with_mean=True, with_std=True)\n",
    "std.fit(X_train_nuevo)\n",
    "X_train_nuevo = std.transform(X_train_nuevo)\n",
    "X_test_nuevo = std.transform(X_test_nuevo)"
   ]
  },
  {
   "cell_type": "markdown",
   "metadata": {},
   "source": [
    "Finalmente, se define un nuevo modelo clasificador y se pone a entrenar con el nuevo conjunto de datos."
   ]
  },
  {
   "cell_type": "markdown",
   "metadata": {},
   "source": [
    "##### Regresor Lineal"
   ]
  },
  {
   "cell_type": "code",
   "execution_count": 207,
   "metadata": {},
   "outputs": [],
   "source": [
    "def train_model_lr(param):\n",
    "    model=LR() #define your model\n",
    "    model.set_params(C=param,penalty='l2')\n",
    "    model.fit(X_train_nuevo,y_train)\n",
    "    return model"
   ]
  },
  {
   "cell_type": "code",
   "execution_count": 208,
   "metadata": {},
   "outputs": [],
   "source": [
    "errores_lr_nuevo = [1.0-train_model_lr(c).score(X_test_nuevo, y_test) for c in Cs]"
   ]
  },
  {
   "cell_type": "markdown",
   "metadata": {},
   "source": [
    "##### SVM de kernel lineal"
   ]
  },
  {
   "cell_type": "code",
   "execution_count": 210,
   "metadata": {},
   "outputs": [],
   "source": [
    "def train_model_svm(param):\n",
    "    model= SVM()\n",
    "    model.set_params(C=param,kernel='linear')\n",
    "    model.fit(X_train_nuevo,y_train)\n",
    "    return model"
   ]
  },
  {
   "cell_type": "code",
   "execution_count": 211,
   "metadata": {},
   "outputs": [],
   "source": [
    "errores_svm_nuevo = [1.0-train_model_svm(c).score(X_test_nuevo, y_test) for c in Cs]"
   ]
  },
  {
   "cell_type": "markdown",
   "metadata": {},
   "source": [
    "##### Árbol de Clasificación"
   ]
  },
  {
   "cell_type": "code",
   "execution_count": 214,
   "metadata": {},
   "outputs": [],
   "source": [
    "profundidades = range(1, 21)\n",
    "\n",
    "def train_modelT_gini(param):\n",
    "    model = Tree() #edit the train_model function\n",
    "    model.set_params(max_depth=param,criterion='gini',splitter='best', random_state=1)\n",
    "    model.fit(X_train_nuevo,y_train)\n",
    "    return model\n",
    "\n",
    "def train_modelT_entropy(param):\n",
    "    model = Tree() #edit the train_model function\n",
    "    model.set_params(max_depth=param,criterion='entropy',splitter='best', random_state=1)\n",
    "    model.fit(X_train_nuevo,y_train)\n",
    "    return model"
   ]
  },
  {
   "cell_type": "code",
   "execution_count": 215,
   "metadata": {},
   "outputs": [],
   "source": [
    "errores_gini_nuevo = [1.0-train_modelT_gini(c).score(X_test_nuevo, y_test) for c in profundidades]\n",
    "errores_entropy_nuevo = [1.0-train_modelT_entropy(c).score(X_test_nuevo, y_test) for c in profundidades]"
   ]
  },
  {
   "cell_type": "markdown",
   "metadata": {},
   "source": [
    "Comparación de errores de prueba."
   ]
  },
  {
   "cell_type": "markdown",
   "metadata": {},
   "source": [
    "LR v/s SVM"
   ]
  },
  {
   "cell_type": "code",
   "execution_count": 228,
   "metadata": {},
   "outputs": [
    {
     "data": {
      "image/png": "[encoded data removed]",
      "text/plain": [
       "<matplotlib.figure.Figure at 0x23c0f71f6a0>"
      ]
     },
     "metadata": {},
     "output_type": "display_data"
    }
   ],
   "source": [
    "plt.figure(figsize=(15,5))\n",
    "plt.plot(Cs, errores_lr_nuevo, c='r', label='Regresor Lineal')\n",
    "plt.plot(Cs, errores_svm_nuevo, c='b', label='SVM')\n",
    "plt.xscale('log')\n",
    "plt.xlabel('C')\n",
    "plt.ylabel('Error')\n",
    "plt.legend(loc='upper right')\n",
    "plt.title('Fracción de Error de Prueba en función de C')\n",
    "plt.show()"
   ]
  },
  {
   "cell_type": "code",
   "execution_count": 223,
   "metadata": {},
   "outputs": [
    {
     "data": {
      "image/png": "[encoded data removed]",
      "text/plain": [
       "<matplotlib.figure.Figure at 0x23c32452198>"
      ]
     },
     "metadata": {},
     "output_type": "display_data"
    }
   ],
   "source": [
    "plt.figure(figsize=(15,5))\n",
    "plt.plot(profundidades, errores_gini_nuevo, c='r', label='Gini')\n",
    "plt.plot(profundidades, errores_entropy_nuevo, c='b', label='Entropy')\n",
    "plt.xlabel('Profundidad')\n",
    "plt.ylabel('Error')\n",
    "plt.legend(loc='upper right')\n",
    "plt.title('Fracción de Error de Prueba en función de la Profundidad')\n",
    "plt.show()"
   ]
  },
  {
   "cell_type": "markdown",
   "metadata": {},
   "source": [
    "Al comparar el Regresor Lineal con la SVM lineal, se encuentra que es el Regresor el que tiene menor medida de error, para valores de C en el orden de magnitud de $10^2$ o mayor. Al comparar los distintos criterios de Árboles de Clasificación, se encuentra que Gini converge a una medida de error menor que Entropy."
   ]
  },
  {
   "cell_type": "code",
   "execution_count": 227,
   "metadata": {},
   "outputs": [
    {
     "name": "stdout",
     "output_type": "stream",
     "text": [
      "Minimo error logrado en LR vs SVM: 0.159090909091\n",
      "Minimo error logrado en Gini vs Entropy: 0.227272727273\n"
     ]
    }
   ],
   "source": [
    "print(\"Minimo error logrado en LR vs SVM:\", min(min(errores_lr_nuevo, errores_svm_nuevo)))\n",
    "print(\"Minimo error logrado en Gini vs Entropy:\", min(min(errores_gini_nuevo, errores_entropy_nuevo)))"
   ]
  },
  {
   "cell_type": "markdown",
   "metadata": {},
   "source": [
    "Por lo tanto, de los modelos probados, LR es el que mejor error de pruebas entrega, que resulta ser $15.9\\%$ aproximadamente, necesitando un parámetro de regularización $C \\geq 10^2$. El mínimo error encontrado usando árboles fue de aproximadamente $22.7\\%$, usando Gini, con una profundidad de 11 o más.\n",
    "\n",
    "El error de prueba obtenido con el entrenamiento sobre espectros de frecuencias resultó ser al rededor del $45\\%$ y $30\\%$ para todos los modelos, usando la proyección PCA y LDA, respectivamente. Por lo tanto, la mejoría en el rendimiento es significativa. Esto demuestra el poder que el *feature crafting* puede tener sobre la calidad de las predicciones, pues se logró disminuir la dimensionalidad a la vez que se conservó información importante sobre los datos (características de la distribución de los espectros de frecuencias). De haber usado más características de las enlistadas al comienzo del desarrollo del ítem, probablemente el rendimiento hubiera seguido mejorando."
   ]
  },
  {
   "cell_type": "code",
   "execution_count": null,
   "metadata": {},
   "outputs": [],
   "source": []
  }
 ],
 "metadata": {
  "kernelspec": {
   "display_name": "Python 3",
   "language": "python",
   "name": "python3"
  },
  "language_info": {
   "codemirror_mode": {
    "name": "ipython",
    "version": 3
   },
   "file_extension": ".py",
   "mimetype": "text/x-python",
   "name": "python",
   "nbconvert_exporter": "python",
   "pygments_lexer": "ipython3",
   "version": "3.5.2"
  }
 },
 "nbformat": 4,
 "nbformat_minor": 2
}
