{
 "cells": [
  {
   "cell_type": "markdown",
   "metadata": {},
   "source": [
    "# 2. Análisis de audios como datos brutos"
   ]
  },
  {
   "cell_type": "markdown",
   "metadata": {},
   "source": [
    "Se usa el set A del dataset Heartbeat Sounds de Kaggle. El conjunto de entradas corresponde a archivos de audio de latidos de corazón, y la salida esperada es una de 4 categorías: 1. Normal, 2. Murmur, 3. Extra Heart Sound y 4. Artifact. Esta información está contenida en el archivo CSV set_a.csv. Es posible que existan audios sin etiqueta asignada, por lo que se ignorarán. El objetivo de la actividad es diseñar una máquina que aprenda a determinar la categoría correcta para futuras entradas de sonido de latidos de corazón."
   ]
  },
  {
   "cell_type": "code",
   "execution_count": 3,
   "metadata": {},
   "outputs": [],
   "source": [
    "from scipy.io import wavfile\n",
    "\n",
    "def clean_filename(fname, string):\n",
    "    file_name = fname.split('/')[1]\n",
    "    if file_name[:2] == '__':\n",
    "        file_name=string + file_name\n",
    "    return file_name\n",
    "\n",
    "SAMPLE_RATE = 44100\n",
    "\n",
    "def load_wav_file(name, path):\n",
    "    s, b = wavfile.read(path+name)\n",
    "    assert s == SAMPLE_RATE\n",
    "    return b"
   ]
  },
  {
   "cell_type": "markdown",
   "metadata": {},
   "source": [
    "#### (a) Se construye dataframe con los datos a usar."
   ]
  },
  {
   "cell_type": "code",
   "execution_count": 4,
   "metadata": {},
   "outputs": [],
   "source": [
    "import pandas as pd\n",
    "import numpy as np\n",
    "\n",
    "df = pd.read_csv('./heartbeat-sounds/set_a.csv')"
   ]
  },
  {
   "cell_type": "code",
   "execution_count": 5,
   "metadata": {},
   "outputs": [
    {
     "data": {
      "text/html": [
       "<div>\n",
       "<style>\n",
       "    .dataframe thead tr:only-child th {\n",
       "        text-align: right;\n",
       "    }\n",
       "\n",
       "    .dataframe thead th {\n",
       "        text-align: left;\n",
       "    }\n",
       "\n",
       "    .dataframe tbody tr th {\n",
       "        vertical-align: top;\n",
       "    }\n",
       "</style>\n",
       "<table border=\"1\" class=\"dataframe\">\n",
       "  <thead>\n",
       "    <tr style=\"text-align: right;\">\n",
       "      <th></th>\n",
       "      <th>dataset</th>\n",
       "      <th>fname</th>\n",
       "      <th>label</th>\n",
       "      <th>sublabel</th>\n",
       "    </tr>\n",
       "  </thead>\n",
       "  <tbody>\n",
       "    <tr>\n",
       "      <th>0</th>\n",
       "      <td>a</td>\n",
       "      <td>set_a/artifact__201012172012.wav</td>\n",
       "      <td>artifact</td>\n",
       "      <td>NaN</td>\n",
       "    </tr>\n",
       "    <tr>\n",
       "      <th>1</th>\n",
       "      <td>a</td>\n",
       "      <td>set_a/artifact__201105040918.wav</td>\n",
       "      <td>artifact</td>\n",
       "      <td>NaN</td>\n",
       "    </tr>\n",
       "    <tr>\n",
       "      <th>2</th>\n",
       "      <td>a</td>\n",
       "      <td>set_a/artifact__201105041959.wav</td>\n",
       "      <td>artifact</td>\n",
       "      <td>NaN</td>\n",
       "    </tr>\n",
       "    <tr>\n",
       "      <th>3</th>\n",
       "      <td>a</td>\n",
       "      <td>set_a/artifact__201105051017.wav</td>\n",
       "      <td>artifact</td>\n",
       "      <td>NaN</td>\n",
       "    </tr>\n",
       "    <tr>\n",
       "      <th>4</th>\n",
       "      <td>a</td>\n",
       "      <td>set_a/artifact__201105060108.wav</td>\n",
       "      <td>artifact</td>\n",
       "      <td>NaN</td>\n",
       "    </tr>\n",
       "    <tr>\n",
       "      <th>5</th>\n",
       "      <td>a</td>\n",
       "      <td>set_a/artifact__201105061143.wav</td>\n",
       "      <td>artifact</td>\n",
       "      <td>NaN</td>\n",
       "    </tr>\n",
       "    <tr>\n",
       "      <th>6</th>\n",
       "      <td>a</td>\n",
       "      <td>set_a/artifact__201105190800.wav</td>\n",
       "      <td>artifact</td>\n",
       "      <td>NaN</td>\n",
       "    </tr>\n",
       "    <tr>\n",
       "      <th>7</th>\n",
       "      <td>a</td>\n",
       "      <td>set_a/artifact__201105280851.wav</td>\n",
       "      <td>artifact</td>\n",
       "      <td>NaN</td>\n",
       "    </tr>\n",
       "    <tr>\n",
       "      <th>8</th>\n",
       "      <td>a</td>\n",
       "      <td>set_a/artifact__201106010559.wav</td>\n",
       "      <td>artifact</td>\n",
       "      <td>NaN</td>\n",
       "    </tr>\n",
       "    <tr>\n",
       "      <th>9</th>\n",
       "      <td>a</td>\n",
       "      <td>set_a/artifact__201106010602.wav</td>\n",
       "      <td>artifact</td>\n",
       "      <td>NaN</td>\n",
       "    </tr>\n",
       "  </tbody>\n",
       "</table>\n",
       "</div>"
      ],
      "text/plain": [
       "  dataset                             fname     label  sublabel\n",
       "0       a  set_a/artifact__201012172012.wav  artifact       NaN\n",
       "1       a  set_a/artifact__201105040918.wav  artifact       NaN\n",
       "2       a  set_a/artifact__201105041959.wav  artifact       NaN\n",
       "3       a  set_a/artifact__201105051017.wav  artifact       NaN\n",
       "4       a  set_a/artifact__201105060108.wav  artifact       NaN\n",
       "5       a  set_a/artifact__201105061143.wav  artifact       NaN\n",
       "6       a  set_a/artifact__201105190800.wav  artifact       NaN\n",
       "7       a  set_a/artifact__201105280851.wav  artifact       NaN\n",
       "8       a  set_a/artifact__201106010559.wav  artifact       NaN\n",
       "9       a  set_a/artifact__201106010602.wav  artifact       NaN"
      ]
     },
     "execution_count": 5,
     "metadata": {},
     "output_type": "execute_result"
    }
   ],
   "source": [
    "df.head(10)"
   ]
  },
  {
   "cell_type": "markdown",
   "metadata": {
    "collapsed": true
   },
   "source": [
    "Una inspección manual sobre el dataset permite confirmar que existen 176 registros de audio, de los cuales sólo los primeros 124 se encuentran etiquetados. De éstos, hay 40 calificados como 'Artifact', 19 como 'extrahls', 34 como 'murmur' y 31 como 'normal'. Durante el ejercicio, no se usarán las columnas 'set' ni 'sublabel', por lo que se eliminarán del dataframe."
   ]
  },
  {
   "cell_type": "code",
   "execution_count": 6,
   "metadata": {},
   "outputs": [],
   "source": [
    "df = df.drop(['dataset','sublabel'], axis=1)"
   ]
  },
  {
   "cell_type": "code",
   "execution_count": 7,
   "metadata": {},
   "outputs": [
    {
     "data": {
      "text/html": [
       "<div>\n",
       "<style>\n",
       "    .dataframe thead tr:only-child th {\n",
       "        text-align: right;\n",
       "    }\n",
       "\n",
       "    .dataframe thead th {\n",
       "        text-align: left;\n",
       "    }\n",
       "\n",
       "    .dataframe tbody tr th {\n",
       "        vertical-align: top;\n",
       "    }\n",
       "</style>\n",
       "<table border=\"1\" class=\"dataframe\">\n",
       "  <thead>\n",
       "    <tr style=\"text-align: right;\">\n",
       "      <th></th>\n",
       "      <th>fname</th>\n",
       "      <th>label</th>\n",
       "    </tr>\n",
       "  </thead>\n",
       "  <tbody>\n",
       "    <tr>\n",
       "      <th>0</th>\n",
       "      <td>set_a/artifact__201012172012.wav</td>\n",
       "      <td>artifact</td>\n",
       "    </tr>\n",
       "    <tr>\n",
       "      <th>1</th>\n",
       "      <td>set_a/artifact__201105040918.wav</td>\n",
       "      <td>artifact</td>\n",
       "    </tr>\n",
       "    <tr>\n",
       "      <th>2</th>\n",
       "      <td>set_a/artifact__201105041959.wav</td>\n",
       "      <td>artifact</td>\n",
       "    </tr>\n",
       "    <tr>\n",
       "      <th>3</th>\n",
       "      <td>set_a/artifact__201105051017.wav</td>\n",
       "      <td>artifact</td>\n",
       "    </tr>\n",
       "    <tr>\n",
       "      <th>4</th>\n",
       "      <td>set_a/artifact__201105060108.wav</td>\n",
       "      <td>artifact</td>\n",
       "    </tr>\n",
       "    <tr>\n",
       "      <th>5</th>\n",
       "      <td>set_a/artifact__201105061143.wav</td>\n",
       "      <td>artifact</td>\n",
       "    </tr>\n",
       "    <tr>\n",
       "      <th>6</th>\n",
       "      <td>set_a/artifact__201105190800.wav</td>\n",
       "      <td>artifact</td>\n",
       "    </tr>\n",
       "    <tr>\n",
       "      <th>7</th>\n",
       "      <td>set_a/artifact__201105280851.wav</td>\n",
       "      <td>artifact</td>\n",
       "    </tr>\n",
       "    <tr>\n",
       "      <th>8</th>\n",
       "      <td>set_a/artifact__201106010559.wav</td>\n",
       "      <td>artifact</td>\n",
       "    </tr>\n",
       "    <tr>\n",
       "      <th>9</th>\n",
       "      <td>set_a/artifact__201106010602.wav</td>\n",
       "      <td>artifact</td>\n",
       "    </tr>\n",
       "  </tbody>\n",
       "</table>\n",
       "</div>"
      ],
      "text/plain": [
       "                              fname     label\n",
       "0  set_a/artifact__201012172012.wav  artifact\n",
       "1  set_a/artifact__201105040918.wav  artifact\n",
       "2  set_a/artifact__201105041959.wav  artifact\n",
       "3  set_a/artifact__201105051017.wav  artifact\n",
       "4  set_a/artifact__201105060108.wav  artifact\n",
       "5  set_a/artifact__201105061143.wav  artifact\n",
       "6  set_a/artifact__201105190800.wav  artifact\n",
       "7  set_a/artifact__201105280851.wav  artifact\n",
       "8  set_a/artifact__201106010559.wav  artifact\n",
       "9  set_a/artifact__201106010602.wav  artifact"
      ]
     },
     "execution_count": 7,
     "metadata": {},
     "output_type": "execute_result"
    }
   ],
   "source": [
    "df.head(10)"
   ]
  },
  {
   "cell_type": "markdown",
   "metadata": {},
   "source": [
    "#### (b) Lectura de los archivos de audio de entrada"
   ]
  },
  {
   "cell_type": "markdown",
   "metadata": {},
   "source": [
    "Se cargan los archivos enlistados en el el dataframe filtrado resultante en (a). Se realiza un padding de ceros a cada archivo, de manera que todos tengan la misma duración que el más largo. De no hacer esto, la distinta duración se traduce en que se conforman por distintas cantidades de elementos o atributos. Esto significa que, sin padding, cada archivo de entrada tendría una dimensionalidad distinta, lo que no es aceptable por ningún método de aprendizaje automático visto en el curso."
   ]
  },
  {
   "cell_type": "code",
   "execution_count": 8,
   "metadata": {},
   "outputs": [],
   "source": [
    "def padd_zeros(array,length):\n",
    "    aux = np.zeros(length)\n",
    "    aux[:array.shape[0]] = array\n",
    "    return aux\n",
    "\n",
    "new_df = pd.DataFrame({'file_name' : df['fname'].apply(clean_filename,string='Aunlabelledtest')})\n",
    "new_df['time_series'] = new_df['file_name'].apply(load_wav_file, path='./heartbeat-sounds/set_a/')\n",
    "new_df['len_series'] = new_df['time_series'].apply(len)\n",
    "new_df['time_series']=new_df['time_series'].apply(padd_zeros,length=max(new_df['len_series']))"
   ]
  },
  {
   "cell_type": "code",
   "execution_count": 9,
   "metadata": {},
   "outputs": [
    {
     "data": {
      "text/html": [
       "<div>\n",
       "<style>\n",
       "    .dataframe thead tr:only-child th {\n",
       "        text-align: right;\n",
       "    }\n",
       "\n",
       "    .dataframe thead th {\n",
       "        text-align: left;\n",
       "    }\n",
       "\n",
       "    .dataframe tbody tr th {\n",
       "        vertical-align: top;\n",
       "    }\n",
       "</style>\n",
       "<table border=\"1\" class=\"dataframe\">\n",
       "  <thead>\n",
       "    <tr style=\"text-align: right;\">\n",
       "      <th></th>\n",
       "      <th>file_name</th>\n",
       "      <th>time_series</th>\n",
       "      <th>len_series</th>\n",
       "    </tr>\n",
       "  </thead>\n",
       "  <tbody>\n",
       "    <tr>\n",
       "      <th>0</th>\n",
       "      <td>artifact__201012172012.wav</td>\n",
       "      <td>[1.0, -3.0, -1.0, -7.0, -9.0, -2.0, -6.0, -5.0...</td>\n",
       "      <td>396900</td>\n",
       "    </tr>\n",
       "    <tr>\n",
       "      <th>1</th>\n",
       "      <td>artifact__201105040918.wav</td>\n",
       "      <td>[-2.0, 3.0, -4.0, 4.0, -3.0, 2.0, -1.0, 0.0, 0...</td>\n",
       "      <td>396900</td>\n",
       "    </tr>\n",
       "    <tr>\n",
       "      <th>2</th>\n",
       "      <td>artifact__201105041959.wav</td>\n",
       "      <td>[6.0, -4.0, -9.0, -1.0, -4.0, 1.0, -5.0, 2.0, ...</td>\n",
       "      <td>396900</td>\n",
       "    </tr>\n",
       "    <tr>\n",
       "      <th>3</th>\n",
       "      <td>artifact__201105051017.wav</td>\n",
       "      <td>[-85.0, -198.0, -214.0, -173.0, -177.0, -206.0...</td>\n",
       "      <td>396900</td>\n",
       "    </tr>\n",
       "    <tr>\n",
       "      <th>4</th>\n",
       "      <td>artifact__201105060108.wav</td>\n",
       "      <td>[53.0, -35.0, 47.0, 170.0, 340.0, 436.0, 535.0...</td>\n",
       "      <td>396900</td>\n",
       "    </tr>\n",
       "    <tr>\n",
       "      <th>5</th>\n",
       "      <td>artifact__201105061143.wav</td>\n",
       "      <td>[-2.0, 2.0, -2.0, 2.0, -2.0, 1.0, 1.0, -3.0, 3...</td>\n",
       "      <td>396900</td>\n",
       "    </tr>\n",
       "    <tr>\n",
       "      <th>6</th>\n",
       "      <td>artifact__201105190800.wav</td>\n",
       "      <td>[47.0, 70.0, 47.0, 58.0, 53.0, 45.0, 13.0, 21....</td>\n",
       "      <td>396900</td>\n",
       "    </tr>\n",
       "    <tr>\n",
       "      <th>7</th>\n",
       "      <td>artifact__201105280851.wav</td>\n",
       "      <td>[605.0, 648.0, 473.0, 171.0, -203.0, -512.0, -...</td>\n",
       "      <td>396900</td>\n",
       "    </tr>\n",
       "    <tr>\n",
       "      <th>8</th>\n",
       "      <td>artifact__201106010559.wav</td>\n",
       "      <td>[-49.0, 0.0, 17.0, -43.0, 30.0, 9.0, -29.0, 50...</td>\n",
       "      <td>396900</td>\n",
       "    </tr>\n",
       "    <tr>\n",
       "      <th>9</th>\n",
       "      <td>artifact__201106010602.wav</td>\n",
       "      <td>[52.0, -1291.0, -1116.0, 101.0, 2429.0, 3776.0...</td>\n",
       "      <td>396900</td>\n",
       "    </tr>\n",
       "  </tbody>\n",
       "</table>\n",
       "</div>"
      ],
      "text/plain": [
       "                    file_name  \\\n",
       "0  artifact__201012172012.wav   \n",
       "1  artifact__201105040918.wav   \n",
       "2  artifact__201105041959.wav   \n",
       "3  artifact__201105051017.wav   \n",
       "4  artifact__201105060108.wav   \n",
       "5  artifact__201105061143.wav   \n",
       "6  artifact__201105190800.wav   \n",
       "7  artifact__201105280851.wav   \n",
       "8  artifact__201106010559.wav   \n",
       "9  artifact__201106010602.wav   \n",
       "\n",
       "                                         time_series  len_series  \n",
       "0  [1.0, -3.0, -1.0, -7.0, -9.0, -2.0, -6.0, -5.0...      396900  \n",
       "1  [-2.0, 3.0, -4.0, 4.0, -3.0, 2.0, -1.0, 0.0, 0...      396900  \n",
       "2  [6.0, -4.0, -9.0, -1.0, -4.0, 1.0, -5.0, 2.0, ...      396900  \n",
       "3  [-85.0, -198.0, -214.0, -173.0, -177.0, -206.0...      396900  \n",
       "4  [53.0, -35.0, 47.0, 170.0, 340.0, 436.0, 535.0...      396900  \n",
       "5  [-2.0, 2.0, -2.0, 2.0, -2.0, 1.0, 1.0, -3.0, 3...      396900  \n",
       "6  [47.0, 70.0, 47.0, 58.0, 53.0, 45.0, 13.0, 21....      396900  \n",
       "7  [605.0, 648.0, 473.0, 171.0, -203.0, -512.0, -...      396900  \n",
       "8  [-49.0, 0.0, 17.0, -43.0, 30.0, 9.0, -29.0, 50...      396900  \n",
       "9  [52.0, -1291.0, -1116.0, 101.0, 2429.0, 3776.0...      396900  "
      ]
     },
     "execution_count": 9,
     "metadata": {},
     "output_type": "execute_result"
    }
   ],
   "source": [
    "new_df.head(10)"
   ]
  },
  {
   "cell_type": "markdown",
   "metadata": {},
   "source": [
    "#### (c) Reasignación de etiquetas a cada dato"
   ]
  },
  {
   "cell_type": "code",
   "execution_count": 10,
   "metadata": {},
   "outputs": [],
   "source": [
    "new_labels =[0, 0, 0, 0, 0, 0, 0, 0, 0, 0, 0, 0, 0, 0, 0, 0, 0, 0, 0, 0, 0, 0, 0, 0, 0,\n",
    "            0, 0, 0, 0, 0, 0, 0, 0, 0, 0, 0, 0, 0, 0, 0, 2, 1, 1, 1, 1, 1, 1, 1, 1, 1,\n",
    "            1, 1, 1, 1, 1, 2, 1, 1, 1, 2, 2, 2, 1, 1, 2, 1, 2, 2, 1, 2, 2, 2, 2, 2, 2,\n",
    "            2, 2, 2, 2, 2, 2, 2, 2, 2, 2, 2, 2, 2, 2, 2, 2, 2, 2, 1, 1, 1, 1, 1, 1, 1,\n",
    "            1, 2, 1, 1, 1, 1, 1, 2, 1, 1, 1, 1, 1, 1, 1, 2, 2, 1, 1, 1, 1, 1, 2, 1, 0,\n",
    "            2, 2, 1, 1, 1, 1, 1, 0, 1, 0, 1, 1, 1, 2, 1, 0, 1, 1, 1, 1, 1, 2, 0, 0, 0,\n",
    "            0, 0, 0, 0, 1, 0, 0, 0, 0, 0, 0, 1, 0, 2, 1, 2, 2, 2, 2, 2, 2, 2, 2, 2, 2, 2]\n",
    "labels = ['artifact','normal/extrahls', 'murmur']\n",
    "new_df['target'] = [labels[i] for i in new_labels]"
   ]
  },
  {
   "cell_type": "code",
   "execution_count": 11,
   "metadata": {},
   "outputs": [
    {
     "data": {
      "text/html": [
       "<div>\n",
       "<style>\n",
       "    .dataframe thead tr:only-child th {\n",
       "        text-align: right;\n",
       "    }\n",
       "\n",
       "    .dataframe thead th {\n",
       "        text-align: left;\n",
       "    }\n",
       "\n",
       "    .dataframe tbody tr th {\n",
       "        vertical-align: top;\n",
       "    }\n",
       "</style>\n",
       "<table border=\"1\" class=\"dataframe\">\n",
       "  <thead>\n",
       "    <tr style=\"text-align: right;\">\n",
       "      <th></th>\n",
       "      <th>file_name</th>\n",
       "      <th>time_series</th>\n",
       "      <th>len_series</th>\n",
       "      <th>target</th>\n",
       "    </tr>\n",
       "  </thead>\n",
       "  <tbody>\n",
       "    <tr>\n",
       "      <th>0</th>\n",
       "      <td>artifact__201012172012.wav</td>\n",
       "      <td>[1.0, -3.0, -1.0, -7.0, -9.0, -2.0, -6.0, -5.0...</td>\n",
       "      <td>396900</td>\n",
       "      <td>artifact</td>\n",
       "    </tr>\n",
       "    <tr>\n",
       "      <th>1</th>\n",
       "      <td>artifact__201105040918.wav</td>\n",
       "      <td>[-2.0, 3.0, -4.0, 4.0, -3.0, 2.0, -1.0, 0.0, 0...</td>\n",
       "      <td>396900</td>\n",
       "      <td>artifact</td>\n",
       "    </tr>\n",
       "    <tr>\n",
       "      <th>2</th>\n",
       "      <td>artifact__201105041959.wav</td>\n",
       "      <td>[6.0, -4.0, -9.0, -1.0, -4.0, 1.0, -5.0, 2.0, ...</td>\n",
       "      <td>396900</td>\n",
       "      <td>artifact</td>\n",
       "    </tr>\n",
       "    <tr>\n",
       "      <th>3</th>\n",
       "      <td>artifact__201105051017.wav</td>\n",
       "      <td>[-85.0, -198.0, -214.0, -173.0, -177.0, -206.0...</td>\n",
       "      <td>396900</td>\n",
       "      <td>artifact</td>\n",
       "    </tr>\n",
       "    <tr>\n",
       "      <th>4</th>\n",
       "      <td>artifact__201105060108.wav</td>\n",
       "      <td>[53.0, -35.0, 47.0, 170.0, 340.0, 436.0, 535.0...</td>\n",
       "      <td>396900</td>\n",
       "      <td>artifact</td>\n",
       "    </tr>\n",
       "    <tr>\n",
       "      <th>5</th>\n",
       "      <td>artifact__201105061143.wav</td>\n",
       "      <td>[-2.0, 2.0, -2.0, 2.0, -2.0, 1.0, 1.0, -3.0, 3...</td>\n",
       "      <td>396900</td>\n",
       "      <td>artifact</td>\n",
       "    </tr>\n",
       "    <tr>\n",
       "      <th>6</th>\n",
       "      <td>artifact__201105190800.wav</td>\n",
       "      <td>[47.0, 70.0, 47.0, 58.0, 53.0, 45.0, 13.0, 21....</td>\n",
       "      <td>396900</td>\n",
       "      <td>artifact</td>\n",
       "    </tr>\n",
       "    <tr>\n",
       "      <th>7</th>\n",
       "      <td>artifact__201105280851.wav</td>\n",
       "      <td>[605.0, 648.0, 473.0, 171.0, -203.0, -512.0, -...</td>\n",
       "      <td>396900</td>\n",
       "      <td>artifact</td>\n",
       "    </tr>\n",
       "    <tr>\n",
       "      <th>8</th>\n",
       "      <td>artifact__201106010559.wav</td>\n",
       "      <td>[-49.0, 0.0, 17.0, -43.0, 30.0, 9.0, -29.0, 50...</td>\n",
       "      <td>396900</td>\n",
       "      <td>artifact</td>\n",
       "    </tr>\n",
       "    <tr>\n",
       "      <th>9</th>\n",
       "      <td>artifact__201106010602.wav</td>\n",
       "      <td>[52.0, -1291.0, -1116.0, 101.0, 2429.0, 3776.0...</td>\n",
       "      <td>396900</td>\n",
       "      <td>artifact</td>\n",
       "    </tr>\n",
       "  </tbody>\n",
       "</table>\n",
       "</div>"
      ],
      "text/plain": [
       "                    file_name  \\\n",
       "0  artifact__201012172012.wav   \n",
       "1  artifact__201105040918.wav   \n",
       "2  artifact__201105041959.wav   \n",
       "3  artifact__201105051017.wav   \n",
       "4  artifact__201105060108.wav   \n",
       "5  artifact__201105061143.wav   \n",
       "6  artifact__201105190800.wav   \n",
       "7  artifact__201105280851.wav   \n",
       "8  artifact__201106010559.wav   \n",
       "9  artifact__201106010602.wav   \n",
       "\n",
       "                                         time_series  len_series    target  \n",
       "0  [1.0, -3.0, -1.0, -7.0, -9.0, -2.0, -6.0, -5.0...      396900  artifact  \n",
       "1  [-2.0, 3.0, -4.0, 4.0, -3.0, 2.0, -1.0, 0.0, 0...      396900  artifact  \n",
       "2  [6.0, -4.0, -9.0, -1.0, -4.0, 1.0, -5.0, 2.0, ...      396900  artifact  \n",
       "3  [-85.0, -198.0, -214.0, -173.0, -177.0, -206.0...      396900  artifact  \n",
       "4  [53.0, -35.0, 47.0, 170.0, 340.0, 436.0, 535.0...      396900  artifact  \n",
       "5  [-2.0, 2.0, -2.0, 2.0, -2.0, 1.0, 1.0, -3.0, 3...      396900  artifact  \n",
       "6  [47.0, 70.0, 47.0, 58.0, 53.0, 45.0, 13.0, 21....      396900  artifact  \n",
       "7  [605.0, 648.0, 473.0, 171.0, -203.0, -512.0, -...      396900  artifact  \n",
       "8  [-49.0, 0.0, 17.0, -43.0, 30.0, 9.0, -29.0, 50...      396900  artifact  \n",
       "9  [52.0, -1291.0, -1116.0, 101.0, 2429.0, 3776.0...      396900  artifact  "
      ]
     },
     "execution_count": 11,
     "metadata": {},
     "output_type": "execute_result"
    }
   ],
   "source": [
    "new_df.head(10)"
   ]
  },
  {
   "cell_type": "code",
   "execution_count": 12,
   "metadata": {},
   "outputs": [
    {
     "name": "stdout",
     "output_type": "stream",
     "text": [
      "Cantidad Artifact: 58\n",
      "Cantidad normal/extrahls: 65\n",
      "Cantidad Murmur: 53\n"
     ]
    }
   ],
   "source": [
    "artifact=0\n",
    "normextra=0\n",
    "murmur=0\n",
    "for label in new_labels:\n",
    "    if label==0:\n",
    "        artifact+=1\n",
    "    elif label==1:\n",
    "        normextra+=1\n",
    "    elif label==2:\n",
    "        murmur+=1\n",
    "print (\"Cantidad Artifact:\", artifact)\n",
    "print (\"Cantidad normal/extrahls:\", normextra)\n",
    "print (\"Cantidad Murmur:\", murmur)"
   ]
  },
  {
   "cell_type": "markdown",
   "metadata": {},
   "source": [
    "La existencia de 3 clases es porque se fusionó 'normal' y 'extrahls'. Los datos a priori mal etiquetados afectan negativamente la calidad predictiva de los modelos que se entrenen con ellos. Con datos mal etiquetados, el modelo aprenderá características que en realidad no corresponden a la clase correcta, por lo que tenderá con mayor probabilidad a confundir datos de la clase real y aquella a la cual de verdad pertenece el dato mal etiquetado. Dependiendo del tipo de modelo y de la cantidad de datos de entrenamiento (bien etiquetados), un solo dato mal etiquetado podría o no afectar la calidad predictiva."
   ]
  },
  {
   "cell_type": "markdown",
   "metadata": {},
   "source": [
    "#### (d) Codificación de etiquetas a forma numérica para poder ser procesados por los algoritmos clasificadores"
   ]
  },
  {
   "cell_type": "code",
   "execution_count": 13,
   "metadata": {},
   "outputs": [],
   "source": [
    "new_df[\"target\"] = new_df[\"target\"].astype('category')\n",
    "cat_columns = new_df.select_dtypes(['category']).columns\n",
    "new_df[cat_columns] = new_df[cat_columns].apply(lambda x: x.cat.codes)"
   ]
  },
  {
   "cell_type": "code",
   "execution_count": 14,
   "metadata": {},
   "outputs": [
    {
     "data": {
      "text/html": [
       "<div>\n",
       "<style>\n",
       "    .dataframe thead tr:only-child th {\n",
       "        text-align: right;\n",
       "    }\n",
       "\n",
       "    .dataframe thead th {\n",
       "        text-align: left;\n",
       "    }\n",
       "\n",
       "    .dataframe tbody tr th {\n",
       "        vertical-align: top;\n",
       "    }\n",
       "</style>\n",
       "<table border=\"1\" class=\"dataframe\">\n",
       "  <thead>\n",
       "    <tr style=\"text-align: right;\">\n",
       "      <th></th>\n",
       "      <th>file_name</th>\n",
       "      <th>time_series</th>\n",
       "      <th>len_series</th>\n",
       "      <th>target</th>\n",
       "    </tr>\n",
       "  </thead>\n",
       "  <tbody>\n",
       "    <tr>\n",
       "      <th>0</th>\n",
       "      <td>artifact__201012172012.wav</td>\n",
       "      <td>[1.0, -3.0, -1.0, -7.0, -9.0, -2.0, -6.0, -5.0...</td>\n",
       "      <td>396900</td>\n",
       "      <td>0</td>\n",
       "    </tr>\n",
       "    <tr>\n",
       "      <th>1</th>\n",
       "      <td>artifact__201105040918.wav</td>\n",
       "      <td>[-2.0, 3.0, -4.0, 4.0, -3.0, 2.0, -1.0, 0.0, 0...</td>\n",
       "      <td>396900</td>\n",
       "      <td>0</td>\n",
       "    </tr>\n",
       "    <tr>\n",
       "      <th>2</th>\n",
       "      <td>artifact__201105041959.wav</td>\n",
       "      <td>[6.0, -4.0, -9.0, -1.0, -4.0, 1.0, -5.0, 2.0, ...</td>\n",
       "      <td>396900</td>\n",
       "      <td>0</td>\n",
       "    </tr>\n",
       "    <tr>\n",
       "      <th>3</th>\n",
       "      <td>artifact__201105051017.wav</td>\n",
       "      <td>[-85.0, -198.0, -214.0, -173.0, -177.0, -206.0...</td>\n",
       "      <td>396900</td>\n",
       "      <td>0</td>\n",
       "    </tr>\n",
       "    <tr>\n",
       "      <th>4</th>\n",
       "      <td>artifact__201105060108.wav</td>\n",
       "      <td>[53.0, -35.0, 47.0, 170.0, 340.0, 436.0, 535.0...</td>\n",
       "      <td>396900</td>\n",
       "      <td>0</td>\n",
       "    </tr>\n",
       "    <tr>\n",
       "      <th>5</th>\n",
       "      <td>artifact__201105061143.wav</td>\n",
       "      <td>[-2.0, 2.0, -2.0, 2.0, -2.0, 1.0, 1.0, -3.0, 3...</td>\n",
       "      <td>396900</td>\n",
       "      <td>0</td>\n",
       "    </tr>\n",
       "    <tr>\n",
       "      <th>6</th>\n",
       "      <td>artifact__201105190800.wav</td>\n",
       "      <td>[47.0, 70.0, 47.0, 58.0, 53.0, 45.0, 13.0, 21....</td>\n",
       "      <td>396900</td>\n",
       "      <td>0</td>\n",
       "    </tr>\n",
       "    <tr>\n",
       "      <th>7</th>\n",
       "      <td>artifact__201105280851.wav</td>\n",
       "      <td>[605.0, 648.0, 473.0, 171.0, -203.0, -512.0, -...</td>\n",
       "      <td>396900</td>\n",
       "      <td>0</td>\n",
       "    </tr>\n",
       "    <tr>\n",
       "      <th>8</th>\n",
       "      <td>artifact__201106010559.wav</td>\n",
       "      <td>[-49.0, 0.0, 17.0, -43.0, 30.0, 9.0, -29.0, 50...</td>\n",
       "      <td>396900</td>\n",
       "      <td>0</td>\n",
       "    </tr>\n",
       "    <tr>\n",
       "      <th>9</th>\n",
       "      <td>artifact__201106010602.wav</td>\n",
       "      <td>[52.0, -1291.0, -1116.0, 101.0, 2429.0, 3776.0...</td>\n",
       "      <td>396900</td>\n",
       "      <td>0</td>\n",
       "    </tr>\n",
       "  </tbody>\n",
       "</table>\n",
       "</div>"
      ],
      "text/plain": [
       "                    file_name  \\\n",
       "0  artifact__201012172012.wav   \n",
       "1  artifact__201105040918.wav   \n",
       "2  artifact__201105041959.wav   \n",
       "3  artifact__201105051017.wav   \n",
       "4  artifact__201105060108.wav   \n",
       "5  artifact__201105061143.wav   \n",
       "6  artifact__201105190800.wav   \n",
       "7  artifact__201105280851.wav   \n",
       "8  artifact__201106010559.wav   \n",
       "9  artifact__201106010602.wav   \n",
       "\n",
       "                                         time_series  len_series  target  \n",
       "0  [1.0, -3.0, -1.0, -7.0, -9.0, -2.0, -6.0, -5.0...      396900       0  \n",
       "1  [-2.0, 3.0, -4.0, 4.0, -3.0, 2.0, -1.0, 0.0, 0...      396900       0  \n",
       "2  [6.0, -4.0, -9.0, -1.0, -4.0, 1.0, -5.0, 2.0, ...      396900       0  \n",
       "3  [-85.0, -198.0, -214.0, -173.0, -177.0, -206.0...      396900       0  \n",
       "4  [53.0, -35.0, 47.0, 170.0, 340.0, 436.0, 535.0...      396900       0  \n",
       "5  [-2.0, 2.0, -2.0, 2.0, -2.0, 1.0, 1.0, -3.0, 3...      396900       0  \n",
       "6  [47.0, 70.0, 47.0, 58.0, 53.0, 45.0, 13.0, 21....      396900       0  \n",
       "7  [605.0, 648.0, 473.0, 171.0, -203.0, -512.0, -...      396900       0  \n",
       "8  [-49.0, 0.0, 17.0, -43.0, 30.0, 9.0, -29.0, 50...      396900       0  \n",
       "9  [52.0, -1291.0, -1116.0, 101.0, 2429.0, 3776.0...      396900       0  "
      ]
     },
     "execution_count": 14,
     "metadata": {},
     "output_type": "execute_result"
    }
   ],
   "source": [
    "new_df.head(10)"
   ]
  },
  {
   "cell_type": "markdown",
   "metadata": {},
   "source": [
    "#### (e) Ordenamiento aleatorio de los datos de entrenamiento. Creación de matriz de datos de entrenamiento 'X', y vector de etiquetas 'y'."
   ]
  },
  {
   "cell_type": "code",
   "execution_count": 15,
   "metadata": {},
   "outputs": [
    {
     "data": {
      "text/plain": [
       "(176, 396900)"
      ]
     },
     "execution_count": 15,
     "metadata": {},
     "output_type": "execute_result"
    }
   ],
   "source": [
    "new_df = new_df.sample(frac=1,random_state=44)\n",
    "X = np.stack(new_df['time_series'].values, axis=0)\n",
    "y = new_df.target.values\n",
    "X.shape"
   ]
  },
  {
   "cell_type": "markdown",
   "metadata": {},
   "source": [
    "#### (f) Apliación de Transformada de Fourier discreta a las series de tiempo del conjunto de datos de entrenamiento 'X'."
   ]
  },
  {
   "cell_type": "code",
   "execution_count": 16,
   "metadata": {},
   "outputs": [],
   "source": [
    "X_fourier = np.abs(np.fft.fft(X))"
   ]
  },
  {
   "cell_type": "code",
   "execution_count": 17,
   "metadata": {},
   "outputs": [],
   "source": [
    "# este bloque de código asume que cada dato en X está con \n",
    "# padding de ceros para que todos tengan la misma longitud\n",
    "\n",
    "n = X.shape[1] #largo de la señal\n",
    "t = float(n)/SAMPLE_RATE # duracion de la señal\n",
    "t_vector = np.arange(0, t, 1.0/SAMPLE_RATE)\n",
    "freq = np.arange(n)/t\n",
    "\n",
    "freq = freq[:int(n/2)]\n",
    "\n",
    "X_fourier_grafico = X_fourier[0][:int(n/2)]\n",
    "X_fourier_grafico = X_fourier_grafico/n"
   ]
  },
  {
   "cell_type": "code",
   "execution_count": 18,
   "metadata": {},
   "outputs": [
    {
     "data": {
      "text/plain": [
       "(198450,)"
      ]
     },
     "execution_count": 18,
     "metadata": {},
     "output_type": "execute_result"
    }
   ],
   "source": [
    "freq.shape"
   ]
  },
  {
   "cell_type": "code",
   "execution_count": 19,
   "metadata": {},
   "outputs": [
    {
     "data": {
      "text/plain": [
       "1.3984300333064124"
      ]
     },
     "execution_count": 19,
     "metadata": {},
     "output_type": "execute_result"
    }
   ],
   "source": [
    "X_fourier_grafico[100]"
   ]
  },
  {
   "cell_type": "markdown",
   "metadata": {},
   "source": [
    "Se compara la 'forma' de cada dato antes y después de la transformación."
   ]
  },
  {
   "cell_type": "code",
   "execution_count": 20,
   "metadata": {},
   "outputs": [
    {
     "data": {
      "text/plain": [
       "<matplotlib.figure.Figure at 0x2a6afc58e48>"
      ]
     },
     "metadata": {},
     "output_type": "display_data"
    },
    {
     "data": {
      "image/png": "[encoded data removed]",
      "text/plain": [
       "<matplotlib.figure.Figure at 0x2a6afc586a0>"
      ]
     },
     "metadata": {},
     "output_type": "display_data"
    }
   ],
   "source": [
    "import matplotlib.pyplot as plt\n",
    "\n",
    "plt.clf()\n",
    "\n",
    "f, axarr = plt.subplots(2, figsize=(10,6))\n",
    "axarr[0].plot(t_vector, X[0])\n",
    "axarr[0].set_title('Serie de tiempo de X[0]')\n",
    "axarr[0].set_xlabel('Tiempo [s]')\n",
    "axarr[0].set_ylabel('Amplitud')\n",
    "axarr[1].plot(freq, X_fourier_grafico)\n",
    "axarr[1].set_title('Espectro de frecuencias de X[0]')\n",
    "axarr[1].set_xlabel('Frecuencia [Hz]')\n",
    "axarr[1].set_ylabel('|Amplitud(frecuencia)|')\n",
    "\n",
    "plt.tight_layout()\n",
    "\n",
    "plt.show()"
   ]
  },
  {
   "cell_type": "markdown",
   "metadata": {
    "collapsed": true
   },
   "source": [
    "#### (g) Generación de una muestra a partir de los datos de espectros de frecuencias."
   ]
  },
  {
   "cell_type": "markdown",
   "metadata": {},
   "source": [
    "El efecto de la ejecución del siguiente bloque de código es que la dimensionalidad de cada dato de entrenamiento se reducirá desde 396900 a sólo 100000. El beneficio de esto, es que la rapidez de ejecución de los algoritmos de aprendizaje será mayor pues se procesará aproximadamente sólo un cuarto de los datos originales. La efectividad del aprendizaje no se verá tan afectada si se logra un muestreo que tenga una distribución lo más parecida posible a la original."
   ]
  },
  {
   "cell_type": "code",
   "execution_count": 21,
   "metadata": {},
   "outputs": [
    {
     "data": {
      "text/plain": [
       "(176, 100000)"
      ]
     },
     "execution_count": 21,
     "metadata": {},
     "output_type": "execute_result"
    }
   ],
   "source": [
    "from scipy import signal\n",
    "\n",
    "X_resampled = []\n",
    "\n",
    "for i in range(X_fourier.shape[0]):\n",
    "    sequence = X_fourier[i,:].copy()\n",
    "    resampled_sequence = signal.resample(sequence, 100000)\n",
    "    X_resampled.append(resampled_sequence)\n",
    "    \n",
    "X_resampled = np.array(X_resampled)\n",
    "X_resampled.shape"
   ]
  },
  {
   "cell_type": "markdown",
   "metadata": {},
   "source": [
    "#### (h) Se divide el conjunto de datos muestreados en conjunto de entrenamiento y de pruebas."
   ]
  },
  {
   "cell_type": "code",
   "execution_count": 22,
   "metadata": {},
   "outputs": [],
   "source": [
    "from sklearn.model_selection import train_test_split\n",
    "\n",
    "X_train, X_test, y_train, y_test = train_test_split(X_resampled, \n",
    "                                                    y, \n",
    "                                                    test_size=0.25,\n",
    "                                                    random_state=42)"
   ]
  },
  {
   "cell_type": "code",
   "execution_count": 23,
   "metadata": {},
   "outputs": [
    {
     "name": "stdout",
     "output_type": "stream",
     "text": [
      "Cantidad de datos de entrenamiento: 132\n",
      "Cantidad de datos de prueba: 44\n"
     ]
    }
   ],
   "source": [
    "print (\"Cantidad de datos de entrenamiento:\", X_train.shape[0])\n",
    "print (\"Cantidad de datos de prueba:\", X_test.shape[0])"
   ]
  },
  {
   "cell_type": "markdown",
   "metadata": {},
   "source": [
    "#### (i) Estandarización del conjunto de datos de entrada (entrenamiento y pruebas)"
   ]
  },
  {
   "cell_type": "markdown",
   "metadata": {},
   "source": [
    "Se centran y escalan los datos usando la media y la desviación estándar de los datos de ETRENAMIENTO."
   ]
  },
  {
   "cell_type": "code",
   "execution_count": 24,
   "metadata": {},
   "outputs": [],
   "source": [
    "from sklearn.preprocessing import StandardScaler\n",
    "\n",
    "std = StandardScaler(with_mean=True, with_std=True)\n",
    "std.fit(X_train)\n",
    "X_train = std.transform(X_train)\n",
    "X_test = std.transform(X_test)"
   ]
  },
  {
   "cell_type": "markdown",
   "metadata": {},
   "source": [
    "#### (j) Uso de PCA para reducción de dimensionalidad a d=2 dimensiones. Visualización de la proyección generada."
   ]
  },
  {
   "cell_type": "markdown",
   "metadata": {},
   "source": [
    "Se genera una proyección en dos dimensiones de los conjuntos de entrenamiento y prueba."
   ]
  },
  {
   "cell_type": "code",
   "execution_count": 94,
   "metadata": {},
   "outputs": [],
   "source": [
    "from sklearn.decomposition import PCA\n",
    "\n",
    "d=2\n",
    "pca_model = PCA(n_components=d)\n",
    "pca_model.fit(X_train)\n",
    "X_pca_train = pca_model.transform(X_train)\n",
    "X_pca_test = pca_model.transform(X_test)"
   ]
  },
  {
   "cell_type": "code",
   "execution_count": 26,
   "metadata": {},
   "outputs": [
    {
     "data": {
      "text/plain": [
       "(132, 2)"
      ]
     },
     "execution_count": 26,
     "metadata": {},
     "output_type": "execute_result"
    }
   ],
   "source": [
    "X_pca_train.shape"
   ]
  },
  {
   "cell_type": "code",
   "execution_count": 27,
   "metadata": {},
   "outputs": [
    {
     "data": {
      "text/plain": [
       "array([-44.97739475, -15.03221551])"
      ]
     },
     "execution_count": 27,
     "metadata": {},
     "output_type": "execute_result"
    }
   ],
   "source": [
    "X_pca_train[0]"
   ]
  },
  {
   "cell_type": "markdown",
   "metadata": {},
   "source": [
    "Se visualizan los conjuntos proyectados. Los colores de los puntos se corresponden con la clase de cada uno:\n",
    "\n",
    "\n",
    "0: 'artifact' -> Rojo\n",
    "\n",
    "1: 'normal/extrahls' -> Verde\n",
    "\n",
    "2: 'murmur' -> Azul"
   ]
  },
  {
   "cell_type": "code",
   "execution_count": 28,
   "metadata": {},
   "outputs": [
    {
     "data": {
      "text/plain": [
       "<matplotlib.figure.Figure at 0x2a71ed06358>"
      ]
     },
     "metadata": {},
     "output_type": "display_data"
    },
    {
     "data": {
      "image/png": "[encoded data removed]",
      "text/plain": [
       "<matplotlib.figure.Figure at 0x2a71ed06320>"
      ]
     },
     "metadata": {},
     "output_type": "display_data"
    }
   ],
   "source": [
    "color = {0: \"r\", 1: \"g\", 2: \"b\"}\n",
    "colores_train = [color[i] for i in y_train]\n",
    "colores_test = [color[i] for i in y_test]\n",
    "\n",
    "plt.clf()\n",
    "\n",
    "f, axarr = plt.subplots(2, 2, figsize=(15,15))\n",
    "axarr[0][0].scatter(X_pca_train.T[0], X_pca_train.T[1], c=colores_train)\n",
    "axarr[0][0].set_title('Entrenam.: proyección del espacio de entrada con d=2')\n",
    "axarr[0][1].scatter(X_pca_train.T[0], X_pca_train.T[1], c=colores_train)\n",
    "axarr[0][1].set_xlim([-100, 100])\n",
    "axarr[0][1].set_ylim([-100, 100])\n",
    "axarr[0][1].set_title('Entrenam.: acercamiento a la región [-100, 100]x[-100, 100]')\n",
    "axarr[1][0].scatter(X_pca_test.T[0], X_pca_test.T[1], c=colores_test)\n",
    "axarr[1][0].set_title('Pruebas: proyección del espacio de entrada con d=2')\n",
    "axarr[1][1].scatter(X_pca_test.T[0], X_pca_test.T[1], c=colores_test)\n",
    "axarr[1][1].set_xlim([-100, 100])\n",
    "axarr[1][1].set_ylim([-100, 100])\n",
    "axarr[1][1].set_title('Pruebas: acercamiento a la región [-100, 100]x[-100, 100]')\n",
    "\n",
    "plt.tight_layout()\n",
    "\n",
    "plt.show()"
   ]
  },
  {
   "cell_type": "markdown",
   "metadata": {},
   "source": [
    "Las clases no se separan tan explicitamente en el espacio proyectado. Las causas de esto son variadas, pero es posible que el factor más influyente sea la dependencia lineal entre los atributos. Al tratarse de espectros de frecuencia, éstos tienden a ser continuos, por lo que el valor del espectro en determinado punto influirá directamente en el valor del espectro en su vecindad. "
   ]
  },
  {
   "cell_type": "markdown",
   "metadata": {},
   "source": [
    "#### (k) Entrenamiento de modelo de Regresión Logística con parámetro de regularización C varible. Entrenamiento de Máquina de Vectores de Soporte de kernel lineal, con parámetro de regularización C variable."
   ]
  },
  {
   "cell_type": "code",
   "execution_count": 45,
   "metadata": {},
   "outputs": [],
   "source": [
    "def visualize_border(model,x,y,title=\"\"):\n",
    "    fig = plt.figure(figsize=(16,8))\n",
    "    plt.scatter(x[:,0], x[:,1], s=50, c=y, cmap=plt.cm.winter)\n",
    "    h = 1000 # step size in the mesh\n",
    "    x_min, x_max = x[:, 0].min() - 1, x[:, 0].max() + 1\n",
    "    y_min, y_max = x[:, 1].min() - 1, x[:, 1].max() + 1\n",
    "    xx, yy = np.meshgrid(np.linspace(x_min, x_max, h),np.linspace(y_min, y_max, h))\n",
    "    Z = model.predict(np.c_[xx.ravel(), yy.ravel()])\n",
    "    Z = Z.reshape(xx.shape)\n",
    "    plt.contour(xx, yy, Z, cmap=plt.cm.Paired)\n",
    "    plt.title(title)\n",
    "    plt.show()"
   ]
  },
  {
   "cell_type": "code",
   "execution_count": 37,
   "metadata": {},
   "outputs": [],
   "source": [
    "from sklearn.linear_model import LogisticRegression as LR\n",
    "from sklearn.svm import SVC as SVM #SVC is for classification\n",
    "\n",
    "def train_model_lr(param):\n",
    "    model=LR() #define your model\n",
    "    model.set_params(C=param,penalty='l2')\n",
    "    model.fit(X_pca_train,y_train)\n",
    "    return model\n",
    "\n",
    "def train_model_svm(param):\n",
    "    model= SVM()\n",
    "    model.set_params(C=param,kernel='linear')\n",
    "    model.fit(X_pca_train,y_train)\n",
    "    return model"
   ]
  },
  {
   "cell_type": "code",
   "execution_count": 38,
   "metadata": {},
   "outputs": [],
   "source": [
    "Cs = [0.0001,0.01,0.1,1,10,100,1000]\n",
    "\n",
    "modelos_lr = [train_model_lr(c) for c in Cs]\n",
    "modelos_svm = [train_model_svm(c) for c in Cs]"
   ]
  },
  {
   "cell_type": "code",
   "execution_count": 50,
   "metadata": {},
   "outputs": [],
   "source": [
    "from ipywidgets import interactive\n",
    "\n",
    "def visualize_border_interactive_lr(param):\n",
    "    model = train_model_lr(param)\n",
    "    visualize_border(model,X_pca_test,y_test)\n",
    "    \n",
    "def visualize_border_interactive_svm(param):\n",
    "    model = train_model_svm(param)\n",
    "    visualize_border(model,X_pca_test,y_test)"
   ]
  },
  {
   "cell_type": "code",
   "execution_count": 51,
   "metadata": {},
   "outputs": [
    {
     "data": {
      "application/vnd.jupyter.widget-view+json": {
       "model_id": "39a23587243e43da9d449730e039a00d",
       "version_major": 2,
       "version_minor": 0
      },
      "text/html": [
       "<p>Failed to display Jupyter Widget of type <code>interactive</code>.</p>\n",
       "<p>\n",
       "  If you're reading this message in the Jupyter Notebook or JupyterLab Notebook, it may mean\n",
       "  that the widgets JavaScript is still loading. If this message persists, it\n",
       "  likely means that the widgets JavaScript library is either not installed or\n",
       "  not enabled. See the <a href=\"https://ipywidgets.readthedocs.io/en/stable/user_install.html\">Jupyter\n",
       "  Widgets Documentation</a> for setup instructions.\n",
       "</p>\n",
       "<p>\n",
       "  If you're reading this message in another frontend (for example, a static\n",
       "  rendering on GitHub or <a href=\"https://nbviewer.jupyter.org/\">NBViewer</a>),\n",
       "  it may mean that your frontend doesn't currently support widgets.\n",
       "</p>\n"
      ],
      "text/plain": [
       "interactive(children=(Dropdown(description='param', options=(0.0001, 0.01, 0.1, 1, 10, 100, 1000), value=0.0001), Output()), _dom_classes=('widget-interact',))"
      ]
     },
     "metadata": {},
     "output_type": "display_data"
    }
   ],
   "source": [
    "interactive(visualize_border_interactive_lr, param=Cs)"
   ]
  },
  {
   "cell_type": "code",
   "execution_count": 52,
   "metadata": {},
   "outputs": [
    {
     "data": {
      "application/vnd.jupyter.widget-view+json": {
       "model_id": "f276b8bc07774780b139dd153c74aac2",
       "version_major": 2,
       "version_minor": 0
      },
      "text/html": [
       "<p>Failed to display Jupyter Widget of type <code>interactive</code>.</p>\n",
       "<p>\n",
       "  If you're reading this message in the Jupyter Notebook or JupyterLab Notebook, it may mean\n",
       "  that the widgets JavaScript is still loading. If this message persists, it\n",
       "  likely means that the widgets JavaScript library is either not installed or\n",
       "  not enabled. See the <a href=\"https://ipywidgets.readthedocs.io/en/stable/user_install.html\">Jupyter\n",
       "  Widgets Documentation</a> for setup instructions.\n",
       "</p>\n",
       "<p>\n",
       "  If you're reading this message in another frontend (for example, a static\n",
       "  rendering on GitHub or <a href=\"https://nbviewer.jupyter.org/\">NBViewer</a>),\n",
       "  it may mean that your frontend doesn't currently support widgets.\n",
       "</p>\n"
      ],
      "text/plain": [
       "interactive(children=(Dropdown(description='param', options=(0.0001, 0.01, 0.1, 1, 10, 100, 1000), value=0.0001), Output()), _dom_classes=('widget-interact',))"
      ]
     },
     "metadata": {},
     "output_type": "display_data"
    }
   ],
   "source": [
    "interactive(visualize_border_interactive_lr, param=Cs)"
   ]
  },
  {
   "cell_type": "markdown",
   "metadata": {},
   "source": [
    "# (Comentar respecto a este ítem)"
   ]
  },
  {
   "cell_type": "markdown",
   "metadata": {},
   "source": [
    "#### (l) Entrenamiento de Árbol de Decisión, variando el hiperparámetro de máxima profundidad."
   ]
  },
  {
   "cell_type": "markdown",
   "metadata": {},
   "source": [
    "Primero se prueba el algoritmo de división de Gini."
   ]
  },
  {
   "cell_type": "code",
   "execution_count": 96,
   "metadata": {},
   "outputs": [
    {
     "data": {
      "application/vnd.jupyter.widget-view+json": {
       "model_id": "6eb26a5ef614483d8c60211cd45ca1bc",
       "version_major": 2,
       "version_minor": 0
      },
      "text/html": [
       "<p>Failed to display Jupyter Widget of type <code>interactive</code>.</p>\n",
       "<p>\n",
       "  If you're reading this message in the Jupyter Notebook or JupyterLab Notebook, it may mean\n",
       "  that the widgets JavaScript is still loading. If this message persists, it\n",
       "  likely means that the widgets JavaScript library is either not installed or\n",
       "  not enabled. See the <a href=\"https://ipywidgets.readthedocs.io/en/stable/user_install.html\">Jupyter\n",
       "  Widgets Documentation</a> for setup instructions.\n",
       "</p>\n",
       "<p>\n",
       "  If you're reading this message in another frontend (for example, a static\n",
       "  rendering on GitHub or <a href=\"https://nbviewer.jupyter.org/\">NBViewer</a>),\n",
       "  it may mean that your frontend doesn't currently support widgets.\n",
       "</p>\n"
      ],
      "text/plain": [
       "interactive(children=(Dropdown(description='param', options=(1, 2, 3, 4, 5, 6, 7, 8, 9, 10, 11, 12, 13, 14, 15, 16, 17, 18, 19, 20, 21, 22, 23, 24, 25, 26, 27, 28, 29), value=1), Output()), _dom_classes=('widget-interact',))"
      ]
     },
     "metadata": {},
     "output_type": "display_data"
    }
   ],
   "source": [
    "from sklearn.tree import DecisionTreeClassifier as Tree\n",
    "\n",
    "depths = range(1,30)\n",
    "\n",
    "def train_modelT_gini(param):\n",
    "    model = Tree() #edit the train_model function\n",
    "    model.set_params(max_depth=param,criterion='gini',splitter='best', random_state=1)\n",
    "    model.fit(X_pca_train,y_train)\n",
    "    return model\n",
    "\n",
    "def visualize_border_interactiveT_gini(param):\n",
    "    model = train_modelT_gini(param)\n",
    "    visualize_border(model,X_pca_test,y_test)\n",
    "\n",
    "interactive(visualize_border_interactiveT_gini,param=depths)"
   ]
  },
  {
   "cell_type": "markdown",
   "metadata": {},
   "source": [
    "Luego, se prueba Entropy."
   ]
  },
  {
   "cell_type": "code",
   "execution_count": 97,
   "metadata": {},
   "outputs": [
    {
     "data": {
      "application/vnd.jupyter.widget-view+json": {
       "model_id": "7feb67d8d04b417690c1f0372a6df39c",
       "version_major": 2,
       "version_minor": 0
      },
      "text/html": [
       "<p>Failed to display Jupyter Widget of type <code>interactive</code>.</p>\n",
       "<p>\n",
       "  If you're reading this message in the Jupyter Notebook or JupyterLab Notebook, it may mean\n",
       "  that the widgets JavaScript is still loading. If this message persists, it\n",
       "  likely means that the widgets JavaScript library is either not installed or\n",
       "  not enabled. See the <a href=\"https://ipywidgets.readthedocs.io/en/stable/user_install.html\">Jupyter\n",
       "  Widgets Documentation</a> for setup instructions.\n",
       "</p>\n",
       "<p>\n",
       "  If you're reading this message in another frontend (for example, a static\n",
       "  rendering on GitHub or <a href=\"https://nbviewer.jupyter.org/\">NBViewer</a>),\n",
       "  it may mean that your frontend doesn't currently support widgets.\n",
       "</p>\n"
      ],
      "text/plain": [
       "interactive(children=(Dropdown(description='param', options=(1, 2, 3, 4, 5, 6, 7, 8, 9, 10, 11, 12, 13, 14, 15, 16, 17, 18, 19, 20, 21, 22, 23, 24, 25, 26, 27, 28, 29), value=1), Output()), _dom_classes=('widget-interact',))"
      ]
     },
     "metadata": {},
     "output_type": "display_data"
    }
   ],
   "source": [
    "def train_modelT_entropy(param):\n",
    "    model = Tree() #edit the train_model function\n",
    "    model.set_params(max_depth=param,criterion='entropy',splitter='best', random_state=1)\n",
    "    model.fit(X_pca_train,y_train)\n",
    "    return model\n",
    "\n",
    "def visualize_border_interactiveT_entropy(param):\n",
    "    model = train_modelT_entropy(param)\n",
    "    visualize_border(model,X_pca_test,y_test)\n",
    "\n",
    "interactive(visualize_border_interactiveT_entropy,param=depths)"
   ]
  },
  {
   "cell_type": "markdown",
   "metadata": {},
   "source": [
    "El error medio de clasificación de los árboles, en función de su profundidad, está presentado en el gráfico siguiente:"
   ]
  },
  {
   "cell_type": "code",
   "execution_count": 100,
   "metadata": {},
   "outputs": [
    {
     "data": {
      "image/png": "[encoded data removed]",
      "text/plain": [
       "<matplotlib.figure.Figure at 0x2a71e850710>"
      ]
     },
     "metadata": {},
     "output_type": "display_data"
    }
   ],
   "source": [
    "errores_gini = [1.0-train_modelT_gini(profundidad).score(X_pca_test,y_test) for profundidad in depths]\n",
    "errores_entropy = [1.0-train_modelT_entropy(profundidad).score(X_pca_test,y_test) for profundidad in depths]\n",
    "\n",
    "plt.figure(figsize=(15,5))\n",
    "plt.plot(depths, errores_gini, c='r', label='Gini')\n",
    "plt.plot(depths, errores_entropy, c='b', label='Entropy')\n",
    "plt.xlabel('Profundidad')\n",
    "plt.ylabel('Error')\n",
    "plt.legend(loc='upper right')\n",
    "plt.title('Fracción de Error con Distintos Algoritmos de División')\n",
    "plt.show()"
   ]
  },
  {
   "cell_type": "markdown",
   "metadata": {},
   "source": [
    "El error es altísimo (al rededor del 45% de los datos mal clasificados). Ambos convergen al mismo error, dado que su inicialización es la misma (misma semilla entregada en el parámetro random_state)"
   ]
  },
  {
   "cell_type": "markdown",
   "metadata": {},
   "source": [
    "# (Comentar respecto a este ítem)"
   ]
  },
  {
   "cell_type": "markdown",
   "metadata": {},
   "source": [
    "#### (m) Experimentación con distintas cantidad de dimensiones de proyección d usando PCA. Encontrar aquel d que resulte en error menor."
   ]
  },
  {
   "cell_type": "markdown",
   "metadata": {},
   "source": [
    "El valor de $d$ puede variar entre 2 y 100000. Primero, se limitará este rango de variación entre 2 y 100. Se usará el algoritmo 'Entropy' para el entrenamiento del árbol, con una profundidad de 15, pues se hipotetiza que la convergencia se logrará a esta misma profundidad con una proyección de mayor dimensionalidad."
   ]
  },
  {
   "cell_type": "code",
   "execution_count": 109,
   "metadata": {
    "scrolled": true
   },
   "outputs": [
    {
     "name": "stdout",
     "output_type": "stream",
     "text": [
      "Error con d=10: 0.409\n",
      "Error con d=20: 0.295\n",
      "Error con d=30: 0.364\n",
      "Error con d=40: 0.341\n",
      "Error con d=50: 0.477\n",
      "Error con d=60: 0.364\n",
      "Error con d=70: 0.318\n",
      "Error con d=80: 0.318\n",
      "Error con d=90: 0.295\n",
      "Error con d=100: 0.318\n",
      "Error con d=110: 0.295\n",
      "Error con d=120: 0.386\n",
      "Error con d=130: 0.477\n",
      "Error con d=140: 0.341\n",
      "Error con d=150: 0.341\n",
      "Error con d=160: 0.341\n",
      "Error con d=170: 0.341\n",
      "Error con d=180: 0.341\n",
      "Error con d=190: 0.341\n",
      "Error con d=200: 0.341\n"
     ]
    }
   ],
   "source": [
    "error_pca_variable = []\n",
    "\n",
    "for d in range(2, 201):\n",
    "    pca_model = PCA(n_components=d)\n",
    "    pca_model.fit(X_train)\n",
    "    X_pca_train = pca_model.transform(X_train)\n",
    "    X_pca_test = pca_model.transform(X_test)\n",
    "\n",
    "    error_pca_variable.append(1.0-train_modelT_entropy(param=15).score(X_pca_test,y_test))\n",
    "    if d%10==0:print('Error con d=%d: %.3f' % (d, error_pca_variable[-1]))"
   ]
  },
  {
   "cell_type": "code",
   "execution_count": 110,
   "metadata": {},
   "outputs": [
    {
     "data": {
      "image/png": "[encoded data removed]",
      "text/plain": [
       "<matplotlib.figure.Figure at 0x2a71e7e1b38>"
      ]
     },
     "metadata": {},
     "output_type": "display_data"
    }
   ],
   "source": [
    "plt.figure(figsize=(15,5))\n",
    "plt.plot(range(2,201), error_pca_variable, c='b', label='Error')\n",
    "plt.xlabel('d')\n",
    "plt.ylabel('Error')\n",
    "plt.legend(loc='upper right')\n",
    "plt.title('Fracción de Error con respecto al aumento de d')\n",
    "plt.show()"
   ]
  },
  {
   "cell_type": "code",
   "execution_count": 113,
   "metadata": {},
   "outputs": [
    {
     "name": "stdout",
     "output_type": "stream",
     "text": [
      "Error minimo: 0.181818181818\n",
      "Valor de d optimo: 3\n"
     ]
    }
   ],
   "source": [
    "print(\"Error minimo:\", min(error_pca_variable))\n",
    "print(\"Valor de d optimo:\",error_pca_variable.index(min(error_pca_variable)))"
   ]
  },
  {
   "cell_type": "markdown",
   "metadata": {},
   "source": [
    "El mínimo error se presenta cuando $d=3$, y corresponde a $0.\\bar{18}$. Se fijará, entonces, $d$ en $3$ y se variará la profundidad del árbol."
   ]
  },
  {
   "cell_type": "code",
   "execution_count": 114,
   "metadata": {},
   "outputs": [
    {
     "data": {
      "image/png": "[encoded data removed]",
      "text/plain": [
       "<matplotlib.figure.Figure at 0x2a71e8e8748>"
      ]
     },
     "metadata": {},
     "output_type": "display_data"
    }
   ],
   "source": [
    "d=3\n",
    "pca_model = PCA(n_components=d)\n",
    "pca_model.fit(X_train)\n",
    "X_pca_train = pca_model.transform(X_train)\n",
    "X_pca_test = pca_model.transform(X_test)\n",
    "\n",
    "errores_d_3 = [1.0-train_modelT_entropy(profundidad).score(X_pca_test,y_test) for profundidad in depths]\n",
    "\n",
    "plt.figure(figsize=(15,5))\n",
    "plt.plot(depths, errores_entropy, c='b', label='Entropy')\n",
    "plt.xlabel('Profundidad')\n",
    "plt.ylabel('Error')\n",
    "plt.legend(loc='upper right')\n",
    "plt.title('Fracción de Error con d=3')\n",
    "plt.show()"
   ]
  },
  {
   "cell_type": "code",
   "execution_count": null,
   "metadata": {},
   "outputs": [],
   "source": []
  }
 ],
 "metadata": {
  "kernelspec": {
   "display_name": "Python 3",
   "language": "python",
   "name": "python3"
  },
  "language_info": {
   "codemirror_mode": {
    "name": "ipython",
    "version": 3
   },
   "file_extension": ".py",
   "mimetype": "text/x-python",
   "name": "python",
   "nbconvert_exporter": "python",
   "pygments_lexer": "ipython3",
   "version": "3.5.2"
  }
 },
 "nbformat": 4,
 "nbformat_minor": 2
}
